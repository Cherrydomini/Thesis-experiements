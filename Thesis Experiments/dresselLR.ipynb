{
  "nbformat": 4,
  "nbformat_minor": 0,
  "metadata": {
    "colab": {
      "name": "dresselLR.ipynb",
      "provenance": []
    },
    "kernelspec": {
      "name": "python3",
      "display_name": "Python 3"
    },
    "language_info": {
      "name": "python"
    }
  },
  "cells": [
    {
      "cell_type": "code",
      "metadata": {
        "id": "v8XCyt3IS2BF"
      },
      "source": [
        "!pip install lime\n",
        "!pip install seaborn\n",
        "!pip install lifelines"
      ],
      "execution_count": null,
      "outputs": []
    },
    {
      "cell_type": "code",
      "metadata": {
        "colab": {
          "base_uri": "https://localhost:8080/",
          "height": 1000
        },
        "id": "Nf2Fw8F6S93J",
        "outputId": "f35c3b42-824e-4356-866a-088742e13403"
      },
      "source": [
        "from __future__ import print_function\n",
        "import pandas as pd\n",
        "import numpy as np\n",
        "import lime\n",
        "import lime.lime_tabular\n",
        "import sklearn.ensemble\n",
        "import sklearn.metrics\n",
        "from lime import lime_text\n",
        "from lime.lime_text import LimeTextExplainer\n",
        "import sklearn\n",
        "from sklearn.pipeline import make_pipeline\n",
        "from sklearn import linear_model\n",
        "import matplotlib.pyplot as plt\n",
        "from sklearn import preprocessing\n",
        "import sklearn.feature_extraction \n",
        "import seaborn as sns\n",
        "import pickle\n",
        "import datetime\n",
        "from datetime import timedelta\n",
        "import scipy.stats as st\n",
        "from sklearn import metrics\n",
        "from sklearn import svm\n",
        "from sklearn.metrics import confusion_matrix, plot_confusion_matrix\n",
        "\n",
        "compas = pd.read_csv(\"compas-scores-two-years.csv\")\n",
        "\n",
        "predict = 'is_recid'\n",
        "total = len(compas)\n",
        "#Encode sex values\n",
        "print(\"Sex values as string:\", compas['sex'].value_counts())\n",
        "for i in range(total):\n",
        "  if compas['sex'][i] == 'Male':\n",
        "    compas['sex'][i] = 0\n",
        "  if compas['sex'][i] == 'Female':\n",
        "    compas['sex'][i] = 1\n",
        "print(\"SEX VALUES AS BINARY:\",compas['sex'].value_counts())\n",
        "#Encode charge degree values\n",
        "print(\"CHARGE VALUES AS STRING: \", compas['c_charge_degree'].value_counts())\n",
        "for i in range(total):\n",
        "  if compas['c_charge_degree'][i] == 'M':\n",
        "    compas['c_charge_degree'][i] = 0\n",
        "  if compas['c_charge_degree'][i] == 'F':\n",
        "    compas['c_charge_degree'][i] = 1\n",
        "print(\"CHARGE VALUES AS BINARY: \", compas['c_charge_degree'].value_counts())\n",
        "\n",
        "\n",
        "compasfeat = compas.drop(['id', 'name', 'first', 'last','race','decile_score', 'juv_other_count','v_decile_score','compas_screening_date','dob', 'age_cat',  'days_b_screening_arrest', 'c_jail_in','c_jail_out',\n",
        "                        'c_case_number', 'c_offense_date', 'c_arrest_date', 'c_days_from_compas','c_charge_desc', 'r_case_number','r_charge_degree','is_recid',\n",
        "                        'r_days_from_arrest', 'r_offense_date','r_charge_desc', 'r_jail_in','r_jail_out','is_violent_recid','two_year_recid', 'priors_count.1',\n",
        "                        'decile_score.1','vr_case_number','vr_charge_degree', 'vr_offense_date', 'vr_charge_desc','type_of_assessment','score_text', \n",
        "                        'screening_date', 'v_type_of_assessment', 'v_score_text', 'v_screening_date', 'violent_recid', 'in_custody','out_custody','start','end','event' ], axis=1)\n",
        "\n",
        "\n",
        "x = np.array(compasfeat)\n",
        "y = np.array(compas[predict])\n",
        "\n",
        "epochs = 1000\n",
        "\n",
        "print(\"Null values: \", compasfeat.isnull().values.any(), \"Sum: \", compasfeat.isnull().sum())\n",
        "\n",
        "linaccuracies= []\n",
        "for _ in range(epochs):\n",
        "  x_train2, x_test2, y_train2, y_test2 = sklearn.model_selection.train_test_split(x, y, test_size=.20)\n",
        "\n",
        "  #build the model\n",
        "  linear = linear_model.LogisticRegression(max_iter = 400)\n",
        "  linear.fit(x_train2, y_train2)\n",
        "  acc = linear.score(x_test2, y_test2)\n",
        "  acc = round(acc*100, 2)\n",
        "  linaccuracies.append(acc)\n",
        "\n",
        "\n",
        "\"\"\"#open saved model\n",
        "openoriginalLinear = pickle.load(open(\"originalLinear.sav\", \"rb\"))\"\"\"\n",
        "#results\n",
        "DresselLinear = 'DresselLinear.sav'\n",
        "pickle.dump(linear, open(DresselLinear, 'wb'))\n",
        "\n",
        "print(linaccuracies)\n",
        "linmeans = np.mean(linaccuracies, 0)\n",
        "linstds = np.std(linaccuracies, 0)\n",
        "linci95 = 1.96*linstds/np.sqrt(epochs)\n",
        "linear_matrix = confusion_matrix(y_test2, linear.predict(x_test2))\n",
        "\n",
        "\n",
        "i = 66\n",
        "\n",
        "\n",
        "explainer = lime.lime_tabular.LimeTabularExplainer(x_train2, mode='classification',feature_names=compasfeat.columns.values, class_names=['no recid', 'recid'], verbose=True, discretize_continuous=True, discretizer='quartile')\n",
        "print(\"Logisitic regression classifier accuracy: \",acc, \"\\nprediction: \", linear.predict(x_test2[i].reshape(1, -1)), \"\\nPredict probability: \", linear.predict_proba(x_test2[i].reshape(1, -1)), \"\\nConfusion Matrix:\\n\", linear_matrix)\n",
        "\n",
        "print(\"prisoner information:\\n\", x_test2[i],y_test2[i])\n",
        "print(\"Judges on the features: \", compasfeat.columns)\n",
        "print(\"Linear: \\n\")\n",
        "exp = explainer.explain_instance(x_test2[i], linear.predict_proba, num_features=len(compasfeat.columns))\n",
        "#exp.show_in_notebook(show_table=True)\n",
        "linearimg = exp.as_pyplot_figure()\n",
        "plt.xlabel('prediciton probabilities by feature')\n",
        "plt.ylabel('feature name and range')\n",
        "plt.tight_layout()\n",
        "linearimg.savefig('Dressellinearexp', format='pdf',bbox_inches='tight')\n",
        "plt.show()\n",
        "\n",
        "y_pred_proba = linear.predict_proba(x_test2)[::,1]\n",
        "fpr, tpr, _ = metrics.roc_curve(y_test2,  y_pred_proba)\n",
        "auc = round(metrics.roc_auc_score(y_test2, y_pred_proba),2)\n",
        "plt.plot(fpr,tpr,label=\"data 1, auc=\"+str(auc))\n",
        "plt.legend(loc=4)\n",
        "plt.savefig('DresselLRAUC.pdf', format='pdf',bbox_inches='tight')\n",
        "plt.show()\n",
        "\n",
        "print(\"Mean validation accuracy/loss: \", linmeans, \"stddev: \", linstds, \"Confidence Interval: \",linci95)"
      ],
      "execution_count": null,
      "outputs": [
        {
          "output_type": "stream",
          "text": [
            "Sex values as string: Male      5819\n",
            "Female    1395\n",
            "Name: sex, dtype: int64\n"
          ],
          "name": "stdout"
        },
        {
          "output_type": "stream",
          "text": [
            "/usr/local/lib/python3.7/dist-packages/ipykernel_launcher.py:33: SettingWithCopyWarning: \n",
            "A value is trying to be set on a copy of a slice from a DataFrame\n",
            "\n",
            "See the caveats in the documentation: https://pandas.pydata.org/pandas-docs/stable/user_guide/indexing.html#returning-a-view-versus-a-copy\n",
            "/usr/local/lib/python3.7/dist-packages/ipykernel_launcher.py:35: SettingWithCopyWarning: \n",
            "A value is trying to be set on a copy of a slice from a DataFrame\n",
            "\n",
            "See the caveats in the documentation: https://pandas.pydata.org/pandas-docs/stable/user_guide/indexing.html#returning-a-view-versus-a-copy\n"
          ],
          "name": "stderr"
        },
        {
          "output_type": "stream",
          "text": [
            "SEX VALUES AS BINARY: 0    5819\n",
            "1    1395\n",
            "Name: sex, dtype: int64\n",
            "CHARGE VALUES AS STRING:  F    4666\n",
            "M    2548\n",
            "Name: c_charge_degree, dtype: int64\n"
          ],
          "name": "stdout"
        },
        {
          "output_type": "stream",
          "text": [
            "/usr/local/lib/python3.7/dist-packages/ipykernel_launcher.py:43: SettingWithCopyWarning: \n",
            "A value is trying to be set on a copy of a slice from a DataFrame\n",
            "\n",
            "See the caveats in the documentation: https://pandas.pydata.org/pandas-docs/stable/user_guide/indexing.html#returning-a-view-versus-a-copy\n",
            "/usr/local/lib/python3.7/dist-packages/ipykernel_launcher.py:41: SettingWithCopyWarning: \n",
            "A value is trying to be set on a copy of a slice from a DataFrame\n",
            "\n",
            "See the caveats in the documentation: https://pandas.pydata.org/pandas-docs/stable/user_guide/indexing.html#returning-a-view-versus-a-copy\n"
          ],
          "name": "stderr"
        },
        {
          "output_type": "stream",
          "text": [
            "CHARGE VALUES AS BINARY:  1    4666\n",
            "0    2548\n",
            "Name: c_charge_degree, dtype: int64\n",
            "Null values:  False Sum:  sex                0\n",
            "age                0\n",
            "juv_fel_count      0\n",
            "juv_misd_count     0\n",
            "priors_count       0\n",
            "c_charge_degree    0\n",
            "dtype: int64\n",
            "Null values:  False Sum:  sex                0\n",
            "age                0\n",
            "juv_fel_count      0\n",
            "juv_misd_count     0\n",
            "priors_count       0\n",
            "c_charge_degree    0\n",
            "dtype: int64\n",
            "[66.81, 68.61, 68.26, 67.36, 65.14, 68.26, 65.9, 68.05, 70.55, 69.23, 67.15, 65.77, 66.74, 67.57, 68.4, 67.01, 67.22, 68.47, 64.86, 68.88, 67.5, 66.18, 69.23, 69.51, 67.98, 68.05, 66.53, 69.79, 69.09, 66.81, 66.18, 68.33, 69.02, 67.15, 65.0, 69.16, 69.23, 66.11, 67.08, 68.95, 67.01, 68.61, 66.04, 66.53, 68.95, 69.23, 69.72, 69.09, 68.54, 66.32, 67.98, 68.33, 69.02, 67.29, 66.32, 68.4, 66.87, 66.67, 68.54, 67.29, 67.71, 65.21, 69.51, 66.46, 68.88, 67.5, 67.98, 67.43, 67.01, 68.95, 68.68, 67.5, 67.36, 67.71, 67.78, 67.84, 65.77, 67.78, 66.39, 65.84, 66.74, 68.33, 68.4, 68.47, 68.26, 67.71, 69.37, 69.09, 66.94, 68.88, 68.12, 67.64, 67.5, 66.74, 67.36, 68.05, 67.01, 66.67, 68.12, 66.46, 67.08, 67.57, 67.08, 68.81, 67.78, 69.99, 69.58, 67.84, 69.16, 67.43, 66.74, 68.19, 66.94, 68.54, 67.01, 68.33, 67.64, 66.81, 67.78, 70.62, 67.15, 70.76, 69.23, 68.26, 67.43, 66.46, 67.71, 67.84, 65.7, 66.94, 68.95, 69.37, 65.28, 67.22, 69.16, 68.88, 68.4, 66.67, 68.61, 69.79, 68.33, 67.29, 69.72, 69.02, 69.51, 70.34, 66.46, 66.46, 68.75, 68.47, 68.26, 67.98, 66.18, 67.78, 67.22, 65.84, 67.98, 67.98, 66.25, 67.29, 66.32, 68.12, 65.35, 67.91, 66.74, 67.43, 69.3, 68.95, 67.5, 67.43, 68.54, 67.15, 65.14, 68.4, 65.7, 67.43, 67.84, 69.92, 65.97, 67.36, 66.53, 66.11, 67.29, 67.36, 68.12, 67.15, 67.78, 68.95, 70.96, 66.25, 67.08, 69.44, 67.5, 69.65, 65.77, 66.32, 69.3, 68.47, 67.84, 66.32, 66.18, 67.78, 67.08, 68.95, 67.08, 68.75, 67.57, 65.9, 65.9, 67.57, 66.87, 66.46, 67.71, 68.68, 66.87, 68.54, 68.88, 69.02, 67.91, 66.67, 68.54, 68.88, 66.74, 69.09, 67.43, 67.71, 69.72, 66.25, 67.5, 67.08, 68.61, 67.15, 67.57, 70.13, 66.04, 67.57, 66.6, 68.26, 66.39, 66.32, 69.02, 68.33, 66.81, 69.79, 69.79, 68.26, 66.6, 67.57, 66.53, 66.39, 68.75, 67.15, 69.58, 69.44, 68.26, 67.01, 68.54, 65.42, 66.67, 67.84, 67.01, 68.68, 70.27, 67.78, 69.99, 69.37, 67.64, 68.26, 69.02, 68.12, 68.54, 67.71, 69.3, 69.72, 69.72, 65.9, 67.15, 68.12, 68.54, 67.08, 67.22, 68.19, 67.57, 68.33, 65.7, 68.75, 68.68, 66.81, 66.87, 67.91, 69.58, 66.94, 69.44, 67.36, 66.18, 67.5, 68.12, 68.81, 66.6, 67.43, 68.81, 68.33, 67.08, 68.81, 66.04, 66.6, 67.71, 65.84, 67.29, 67.64, 65.35, 68.88, 66.04, 68.68, 67.22, 66.53, 69.16, 69.23, 67.84, 69.16, 66.87, 69.16, 68.88, 68.75, 66.6, 68.95, 68.88, 66.87, 66.94, 68.68, 68.47, 67.84, 68.95, 68.19, 69.3, 67.43, 67.91, 66.53, 68.47, 68.26, 68.54, 67.98, 69.37, 65.07, 68.12, 67.08, 67.01, 68.19, 66.46, 66.04, 66.53, 68.12, 68.33, 66.25, 66.46, 67.5, 67.98, 67.78, 66.39, 67.01, 67.71, 69.58, 69.72, 66.87, 66.32, 68.26, 67.78, 69.37, 67.71, 69.16, 66.46, 66.53, 67.78, 67.98, 67.22, 69.16, 67.5, 67.43, 65.9, 67.36, 67.01, 67.22, 70.2, 65.21, 67.36, 68.05, 67.78, 66.81, 68.68, 68.95, 68.81, 67.71, 67.98, 67.64, 68.4, 67.22, 66.81, 66.6, 67.84, 68.68, 68.33, 68.19, 69.79, 67.22, 67.71, 66.87, 66.67, 69.58, 65.14, 66.18, 68.61, 67.43, 69.16, 67.15, 67.01, 69.02, 67.29, 67.57, 66.04, 67.71, 68.05, 67.57, 67.01, 67.64, 66.87, 66.94, 66.18, 67.36, 68.26, 67.36, 66.32, 68.12, 68.12, 67.78, 66.74, 68.88, 68.33, 66.67, 68.81, 68.05, 66.39, 65.7, 67.43, 68.4, 68.05, 67.43, 66.46, 69.51, 65.84, 68.68, 66.94, 67.78, 68.05, 68.88, 66.67, 67.22, 66.87, 68.26, 67.78, 68.33, 66.81, 66.53, 68.95, 66.87, 65.97, 68.33, 67.64, 67.01, 67.36, 68.19, 66.81, 66.94, 66.94, 67.71, 68.68, 68.26, 68.47, 67.64, 66.18, 68.95, 67.57, 67.91, 68.33, 66.18, 70.06, 66.18, 70.06, 66.04, 65.63, 65.84, 67.71, 67.71, 70.27, 67.08, 67.29, 66.25, 67.98, 66.46, 66.74, 65.49, 67.36, 67.64, 67.36, 68.4, 69.23, 68.4, 67.01, 66.25, 67.71, 67.08, 68.12, 69.23, 66.6, 67.29, 68.75, 66.74, 68.95, 68.81, 68.26, 66.11, 67.08, 67.5, 67.01, 68.33, 66.74, 66.53, 69.85, 67.64, 68.61, 67.57, 67.5, 67.36, 69.44, 68.05, 66.18, 67.98, 69.72, 67.43, 66.04, 65.97, 66.32, 68.05, 69.37, 66.74, 66.6, 68.47, 67.5, 65.84, 68.19, 67.43, 65.77, 67.08, 67.71, 68.68, 66.46, 65.56, 66.46, 67.01, 67.91, 67.84, 68.47, 68.95, 66.67, 68.33, 66.94, 66.67, 67.91, 68.61, 68.19, 67.84, 66.11, 67.57, 68.88, 69.44, 67.64, 67.01, 67.64, 65.42, 67.71, 65.56, 66.39, 66.53, 68.54, 68.26, 67.08, 69.23, 67.98, 67.29, 68.12, 66.25, 66.87, 66.81, 66.25, 66.53, 67.43, 65.7, 65.49, 67.29, 68.26, 65.07, 68.4, 68.05, 64.66, 67.36, 68.68, 68.54, 67.57, 66.46, 68.05, 67.98, 67.98, 67.08, 70.06, 68.05, 67.91, 67.91, 65.77, 69.02, 68.26, 67.57, 68.88, 69.09, 65.49, 67.57, 68.61, 69.02, 67.15, 67.08, 67.43, 67.36, 67.57, 68.54, 68.95, 67.15, 68.75, 68.19, 68.81, 67.71, 69.16, 67.71, 68.19, 66.74, 68.26, 69.09, 66.53, 67.43, 67.36, 67.78, 66.46, 66.81, 67.78, 67.08, 65.97, 66.6, 66.94, 68.05, 67.98, 67.78, 66.25, 67.15, 67.22, 67.78, 67.08, 67.15, 68.4, 67.08, 69.3, 65.9, 69.3, 68.54, 69.51, 67.84, 65.14, 67.15, 69.37, 68.05, 66.11, 69.37, 68.47, 68.05, 66.32, 67.36, 67.36, 67.57, 66.53, 69.72, 68.12, 66.39, 67.01, 64.86, 71.17, 69.02, 68.61, 67.01, 67.15, 67.01, 67.36, 68.95, 68.19, 67.57, 68.75, 68.33, 67.98, 65.77, 69.09, 68.61, 67.71, 68.68, 67.98, 68.19, 68.26, 68.05, 69.72, 68.4, 65.56, 68.19, 67.78, 70.13, 68.95, 67.84, 66.94, 65.49, 67.5, 67.29, 68.81, 67.08, 68.05, 65.77, 66.04, 65.56, 67.43, 65.97, 68.75, 66.87, 66.74, 70.62, 67.84, 66.94, 69.3, 68.4, 67.36, 67.36, 67.78, 69.51, 69.72, 66.32, 67.01, 66.32, 67.29, 66.32, 66.46, 67.36, 67.43, 68.54, 67.01, 67.43, 66.94, 68.12, 67.84, 68.75, 68.75, 67.15, 67.98, 69.51, 65.9, 68.19, 66.11, 68.12, 67.5, 68.19, 68.12, 66.74, 65.9, 67.98, 69.02, 68.68, 67.64, 68.47, 69.16, 67.91, 67.57, 67.36, 67.08, 66.87, 68.19, 68.54, 68.54, 66.25, 67.78, 66.32, 67.43, 68.54, 69.23, 65.84, 66.94, 67.15, 66.87, 68.4, 67.5, 66.81, 66.74, 67.43, 64.86, 67.5, 67.57, 67.91, 66.67, 68.26, 67.64, 69.37, 67.08, 68.81, 66.6, 69.51, 67.36, 67.91, 68.54, 67.64, 68.12, 67.98, 66.94, 68.54, 67.84, 67.5, 65.0, 68.05, 69.23, 66.6, 66.53, 69.09, 67.43, 68.4, 68.81, 69.51, 68.75, 66.25, 69.65, 68.33, 70.41, 67.71, 69.3, 68.12, 68.75, 68.54, 67.22, 66.32, 68.61, 65.14, 68.61, 70.41, 67.43, 66.32, 67.5, 67.98, 67.15, 67.29, 65.42, 65.14, 67.43, 67.15, 66.74, 67.71, 68.54, 67.22, 67.64, 66.39, 67.15, 69.09, 68.61, 65.56, 67.08, 68.88, 67.78, 66.46, 66.74, 68.4, 64.86, 67.57, 68.33, 68.19, 67.22, 68.26, 66.74, 67.84, 69.85, 66.87, 67.29, 66.67, 67.84, 66.46, 69.02, 65.9, 68.33, 68.4, 67.43, 66.46, 70.13, 67.78, 66.94, 67.71, 66.6, 66.25, 65.28, 66.6, 66.04, 67.01, 67.22, 65.7, 68.26, 67.91, 66.46, 66.46, 68.75, 66.6, 67.01, 68.26, 67.15, 67.71, 67.36, 66.32, 67.43, 66.94, 69.58, 69.65, 69.02, 68.88, 67.98, 66.87, 69.23, 68.12, 65.9, 68.12, 68.61, 67.08, 67.43, 67.22, 68.54, 68.19, 67.71, 68.12, 68.26, 67.22, 67.01, 67.71, 67.5, 67.84, 66.46, 68.05, 66.81, 67.64, 68.68, 67.71, 68.33, 67.43, 66.87, 66.67, 66.11, 66.39, 67.84, 68.05, 68.26, 66.67, 66.87, 64.86, 67.84, 67.78, 67.64, 67.91, 67.43, 68.33, 69.3, 69.44, 67.5, 67.91, 68.12, 67.22, 67.78, 67.64, 68.68, 68.12, 68.33, 68.95, 66.74, 67.64, 68.05, 67.08, 67.91, 68.68, 67.98, 67.29, 65.7, 69.72, 68.61, 67.5, 66.87, 68.75, 67.43, 67.43, 68.88, 67.5]\n",
            "Logisitic regression classifier accuracy:  67.5 \n",
            "prediction:  [1] \n",
            "Predict probability:  [[0.40927473 0.59072527]] \n",
            "Confusion Matrix:\n",
            " [[526 210]\n",
            " [259 448]]\n",
            "prisoner information:\n",
            " [0 43 0 0 8 1] 0\n",
            "Judges on the features:  Index(['sex', 'age', 'juv_fel_count', 'juv_misd_count', 'priors_count',\n",
            "       'c_charge_degree'],\n",
            "      dtype='object')\n",
            "Linear: \n",
            "\n",
            "Intercept 0.4645201901095226\n",
            "Prediction_local [0.75639004]\n",
            "Right: 0.5907252663572216\n"
          ],
          "name": "stdout"
        },
        {
          "output_type": "display_data",
          "data": {
            "image/png": "[encoded data removed]",
            "text/plain": [
              "<Figure size 432x288 with 1 Axes>"
            ]
          },
          "metadata": {
            "tags": [],
            "needs_background": "light"
          }
        },
        {
          "output_type": "display_data",
          "data": {
            "image/png": "[encoded data removed]",
            "text/plain": [
              "<Figure size 432x288 with 1 Axes>"
            ]
          },
          "metadata": {
            "tags": [],
            "needs_background": "light"
          }
        },
        {
          "output_type": "stream",
          "text": [
            "Mean validation accuracy/loss:  67.6683 stddev:  1.1310545123909814 Confidence Interval:  0.07010348497254615\n"
          ],
          "name": "stdout"
        }
      ]
    }
  ]
}