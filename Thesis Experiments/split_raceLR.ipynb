{
  "nbformat": 4,
  "nbformat_minor": 0,
  "metadata": {
    "colab": {
      "name": "split raceLR.ipynb",
      "provenance": []
    },
    "kernelspec": {
      "display_name": "Python 3",
      "name": "python3"
    },
    "language_info": {
      "name": "python"
    }
  },
  "cells": [
    {
      "cell_type": "code",
      "metadata": {
        "colab": {
          "base_uri": "https://localhost:8080/"
        },
        "id": "-Mq8PR4mpMNP",
        "outputId": "9b8f8d3b-73c8-4d04-e6de-c23de84e06c5"
      },
      "source": [
        "!pip install lime\n",
        "!pip install seaborn\n",
        "!pip install lifelines"
      ],
      "execution_count": null,
      "outputs": [
        {
          "output_type": "stream",
          "text": [
            "Collecting lime\n",
            "\u001b[?25l  Downloading https://files.pythonhosted.org/packages/f5/86/91a13127d83d793ecb50eb75e716f76e6eda809b6803c5a4ff462339789e/lime-0.2.0.1.tar.gz (275kB)\n",
            "\r\u001b[K     |█▏                              | 10kB 15.4MB/s eta 0:00:01\r\u001b[K     |██▍                             | 20kB 20.6MB/s eta 0:00:01\r\u001b[K     |███▋                            | 30kB 10.4MB/s eta 0:00:01\r\u001b[K     |████▊                           | 40kB 8.8MB/s eta 0:00:01\r\u001b[K     |██████                          | 51kB 4.9MB/s eta 0:00:01\r\u001b[K     |███████▏                        | 61kB 5.3MB/s eta 0:00:01\r\u001b[K     |████████▎                       | 71kB 5.7MB/s eta 0:00:01\r\u001b[K     |█████████▌                      | 81kB 6.2MB/s eta 0:00:01\r\u001b[K     |██████████▊                     | 92kB 6.1MB/s eta 0:00:01\r\u001b[K     |███████████▉                    | 102kB 5.1MB/s eta 0:00:01\r\u001b[K     |█████████████                   | 112kB 5.1MB/s eta 0:00:01\r\u001b[K     |██████████████▎                 | 122kB 5.1MB/s eta 0:00:01\r\u001b[K     |███████████████▌                | 133kB 5.1MB/s eta 0:00:01\r\u001b[K     |████████████████▋               | 143kB 5.1MB/s eta 0:00:01\r\u001b[K     |█████████████████▉              | 153kB 5.1MB/s eta 0:00:01\r\u001b[K     |███████████████████             | 163kB 5.1MB/s eta 0:00:01\r\u001b[K     |████████████████████▏           | 174kB 5.1MB/s eta 0:00:01\r\u001b[K     |█████████████████████▍          | 184kB 5.1MB/s eta 0:00:01\r\u001b[K     |██████████████████████▋         | 194kB 5.1MB/s eta 0:00:01\r\u001b[K     |███████████████████████▊        | 204kB 5.1MB/s eta 0:00:01\r\u001b[K     |█████████████████████████       | 215kB 5.1MB/s eta 0:00:01\r\u001b[K     |██████████████████████████▏     | 225kB 5.1MB/s eta 0:00:01\r\u001b[K     |███████████████████████████▍    | 235kB 5.1MB/s eta 0:00:01\r\u001b[K     |████████████████████████████▌   | 245kB 5.1MB/s eta 0:00:01\r\u001b[K     |█████████████████████████████▊  | 256kB 5.1MB/s eta 0:00:01\r\u001b[K     |███████████████████████████████ | 266kB 5.1MB/s eta 0:00:01\r\u001b[K     |████████████████████████████████| 276kB 5.1MB/s \n",
            "\u001b[?25hRequirement already satisfied: matplotlib in /usr/local/lib/python3.7/dist-packages (from lime) (3.2.2)\n",
            "Requirement already satisfied: numpy in /usr/local/lib/python3.7/dist-packages (from lime) (1.19.5)\n",
            "Requirement already satisfied: scipy in /usr/local/lib/python3.7/dist-packages (from lime) (1.4.1)\n",
            "Requirement already satisfied: tqdm in /usr/local/lib/python3.7/dist-packages (from lime) (4.41.1)\n",
            "Requirement already satisfied: scikit-learn>=0.18 in /usr/local/lib/python3.7/dist-packages (from lime) (0.22.2.post1)\n",
            "Requirement already satisfied: scikit-image>=0.12 in /usr/local/lib/python3.7/dist-packages (from lime) (0.16.2)\n",
            "Requirement already satisfied: python-dateutil>=2.1 in /usr/local/lib/python3.7/dist-packages (from matplotlib->lime) (2.8.1)\n",
            "Requirement already satisfied: cycler>=0.10 in /usr/local/lib/python3.7/dist-packages (from matplotlib->lime) (0.10.0)\n",
            "Requirement already satisfied: kiwisolver>=1.0.1 in /usr/local/lib/python3.7/dist-packages (from matplotlib->lime) (1.3.1)\n",
            "Requirement already satisfied: pyparsing!=2.0.4,!=2.1.2,!=2.1.6,>=2.0.1 in /usr/local/lib/python3.7/dist-packages (from matplotlib->lime) (2.4.7)\n",
            "Requirement already satisfied: joblib>=0.11 in /usr/local/lib/python3.7/dist-packages (from scikit-learn>=0.18->lime) (1.0.1)\n",
            "Requirement already satisfied: imageio>=2.3.0 in /usr/local/lib/python3.7/dist-packages (from scikit-image>=0.12->lime) (2.4.1)\n",
            "Requirement already satisfied: PyWavelets>=0.4.0 in /usr/local/lib/python3.7/dist-packages (from scikit-image>=0.12->lime) (1.1.1)\n",
            "Requirement already satisfied: networkx>=2.0 in /usr/local/lib/python3.7/dist-packages (from scikit-image>=0.12->lime) (2.5.1)\n",
            "Requirement already satisfied: pillow>=4.3.0 in /usr/local/lib/python3.7/dist-packages (from scikit-image>=0.12->lime) (7.1.2)\n",
            "Requirement already satisfied: six>=1.5 in /usr/local/lib/python3.7/dist-packages (from python-dateutil>=2.1->matplotlib->lime) (1.15.0)\n",
            "Requirement already satisfied: decorator<5,>=4.3 in /usr/local/lib/python3.7/dist-packages (from networkx>=2.0->scikit-image>=0.12->lime) (4.4.2)\n",
            "Building wheels for collected packages: lime\n",
            "  Building wheel for lime (setup.py) ... \u001b[?25l\u001b[?25hdone\n",
            "  Created wheel for lime: filename=lime-0.2.0.1-cp37-none-any.whl size=283858 sha256=86eb2ffca1e4a09aa68e32af26df3a9b8a28f6233cfc18ec503b61a0d29acec9\n",
            "  Stored in directory: /root/.cache/pip/wheels/4c/4f/a5/0bc765457bd41378bf3ce8d17d7495369d6e7ca3b712c60c89\n",
            "Successfully built lime\n",
            "Installing collected packages: lime\n",
            "Successfully installed lime-0.2.0.1\n",
            "Requirement already satisfied: seaborn in /usr/local/lib/python3.7/dist-packages (0.11.1)\n",
            "Requirement already satisfied: numpy>=1.15 in /usr/local/lib/python3.7/dist-packages (from seaborn) (1.19.5)\n",
            "Requirement already satisfied: scipy>=1.0 in /usr/local/lib/python3.7/dist-packages (from seaborn) (1.4.1)\n",
            "Requirement already satisfied: pandas>=0.23 in /usr/local/lib/python3.7/dist-packages (from seaborn) (1.1.5)\n",
            "Requirement already satisfied: matplotlib>=2.2 in /usr/local/lib/python3.7/dist-packages (from seaborn) (3.2.2)\n",
            "Requirement already satisfied: pytz>=2017.2 in /usr/local/lib/python3.7/dist-packages (from pandas>=0.23->seaborn) (2018.9)\n",
            "Requirement already satisfied: python-dateutil>=2.7.3 in /usr/local/lib/python3.7/dist-packages (from pandas>=0.23->seaborn) (2.8.1)\n",
            "Requirement already satisfied: cycler>=0.10 in /usr/local/lib/python3.7/dist-packages (from matplotlib>=2.2->seaborn) (0.10.0)\n",
            "Requirement already satisfied: kiwisolver>=1.0.1 in /usr/local/lib/python3.7/dist-packages (from matplotlib>=2.2->seaborn) (1.3.1)\n",
            "Requirement already satisfied: pyparsing!=2.0.4,!=2.1.2,!=2.1.6,>=2.0.1 in /usr/local/lib/python3.7/dist-packages (from matplotlib>=2.2->seaborn) (2.4.7)\n",
            "Requirement already satisfied: six>=1.5 in /usr/local/lib/python3.7/dist-packages (from python-dateutil>=2.7.3->pandas>=0.23->seaborn) (1.15.0)\n",
            "Collecting lifelines\n",
            "\u001b[?25l  Downloading https://files.pythonhosted.org/packages/50/ba/d010b22c8bcdfe3bbba753bd976f5deddfa4ec1c842b991579e9c2c3cd61/lifelines-0.26.0-py3-none-any.whl (348kB)\n",
            "\u001b[K     |████████████████████████████████| 358kB 6.6MB/s \n",
            "\u001b[?25hCollecting formulaic<0.3,>=0.2.2\n",
            "\u001b[?25l  Downloading https://files.pythonhosted.org/packages/02/64/6702b5cadc89ece93af2e01996504f3a895196354a35713e2ef22f089d3e/formulaic-0.2.3-py3-none-any.whl (55kB)\n",
            "\u001b[K     |████████████████████████████████| 61kB 5.5MB/s \n",
            "\u001b[?25hRequirement already satisfied: autograd>=1.3 in /usr/local/lib/python3.7/dist-packages (from lifelines) (1.3)\n",
            "Requirement already satisfied: numpy>=1.14.0 in /usr/local/lib/python3.7/dist-packages (from lifelines) (1.19.5)\n",
            "Requirement already satisfied: pandas>=0.23.0 in /usr/local/lib/python3.7/dist-packages (from lifelines) (1.1.5)\n",
            "Collecting autograd-gamma>=0.3\n",
            "  Downloading https://files.pythonhosted.org/packages/85/ae/7f2031ea76140444b2453fa139041e5afd4a09fc5300cfefeb1103291f80/autograd-gamma-0.5.0.tar.gz\n",
            "Requirement already satisfied: scipy>=1.2.0 in /usr/local/lib/python3.7/dist-packages (from lifelines) (1.4.1)\n",
            "Requirement already satisfied: matplotlib>=3.0 in /usr/local/lib/python3.7/dist-packages (from lifelines) (3.2.2)\n",
            "Requirement already satisfied: astor in /usr/local/lib/python3.7/dist-packages (from formulaic<0.3,>=0.2.2->lifelines) (0.8.1)\n",
            "Collecting interface-meta>=1.2\n",
            "  Downloading https://files.pythonhosted.org/packages/71/31/5e474208f5df9012ebecfaa23884b14f93671ea4f4f6d468eb096b73e499/interface_meta-1.2.3-py2.py3-none-any.whl\n",
            "Requirement already satisfied: wrapt in /usr/local/lib/python3.7/dist-packages (from formulaic<0.3,>=0.2.2->lifelines) (1.12.1)\n",
            "Requirement already satisfied: future>=0.15.2 in /usr/local/lib/python3.7/dist-packages (from autograd>=1.3->lifelines) (0.16.0)\n",
            "Requirement already satisfied: pytz>=2017.2 in /usr/local/lib/python3.7/dist-packages (from pandas>=0.23.0->lifelines) (2018.9)\n",
            "Requirement already satisfied: python-dateutil>=2.7.3 in /usr/local/lib/python3.7/dist-packages (from pandas>=0.23.0->lifelines) (2.8.1)\n",
            "Requirement already satisfied: kiwisolver>=1.0.1 in /usr/local/lib/python3.7/dist-packages (from matplotlib>=3.0->lifelines) (1.3.1)\n",
            "Requirement already satisfied: cycler>=0.10 in /usr/local/lib/python3.7/dist-packages (from matplotlib>=3.0->lifelines) (0.10.0)\n",
            "Requirement already satisfied: pyparsing!=2.0.4,!=2.1.2,!=2.1.6,>=2.0.1 in /usr/local/lib/python3.7/dist-packages (from matplotlib>=3.0->lifelines) (2.4.7)\n",
            "Requirement already satisfied: six>=1.5 in /usr/local/lib/python3.7/dist-packages (from python-dateutil>=2.7.3->pandas>=0.23.0->lifelines) (1.15.0)\n",
            "Building wheels for collected packages: autograd-gamma\n",
            "  Building wheel for autograd-gamma (setup.py) ... \u001b[?25l\u001b[?25hdone\n",
            "  Created wheel for autograd-gamma: filename=autograd_gamma-0.5.0-cp37-none-any.whl size=4050 sha256=1ad27ad52f50540b2d29b8b21abb06317486401d7fcab19a7e7b455fc3c82d8c\n",
            "  Stored in directory: /root/.cache/pip/wheels/dc/68/dc/91321c55fba449755524481854f5be70d41912b8f886f908bb\n",
            "Successfully built autograd-gamma\n",
            "Installing collected packages: interface-meta, formulaic, autograd-gamma, lifelines\n",
            "Successfully installed autograd-gamma-0.5.0 formulaic-0.2.3 interface-meta-1.2.3 lifelines-0.26.0\n"
          ],
          "name": "stdout"
        }
      ]
    },
    {
      "cell_type": "code",
      "metadata": {
        "colab": {
          "base_uri": "https://localhost:8080/",
          "height": 1000
        },
        "id": "TSv3ib_ypSI3",
        "outputId": "a88bb5d3-5c22-4205-c5ab-f2cee7f2f13c"
      },
      "source": [
        "from __future__ import print_function\n",
        "import pandas as pd\n",
        "import numpy as np\n",
        "import lime\n",
        "import lime.lime_tabular\n",
        "import sklearn.ensemble\n",
        "import sklearn.metrics\n",
        "from lime import lime_text\n",
        "from lime.lime_text import LimeTextExplainer\n",
        "import sklearn\n",
        "from sklearn.pipeline import make_pipeline\n",
        "from sklearn import linear_model\n",
        "import matplotlib.pyplot as plt\n",
        "from sklearn import preprocessing\n",
        "import sklearn.feature_extraction \n",
        "import seaborn as sns\n",
        "import pickle\n",
        "import datetime\n",
        "from datetime import timedelta\n",
        "import scipy.stats as st\n",
        "from sklearn import metrics\n",
        "from sklearn import svm\n",
        "from sklearn.metrics import confusion_matrix, plot_confusion_matrix\n",
        "\n",
        "compas = pd.read_csv(\"result3.csv\")\n",
        "\n",
        "predict = 'is_recid'\n",
        "total = len(compas)\n",
        "#Encode sex values\n",
        "print(\"Sex values as string:\", compas['sex'].value_counts())\n",
        "for i in range(total):\n",
        "  if compas['sex'][i] == 'Male':\n",
        "    compas['sex'][i] = 0\n",
        "  if compas['sex'][i] == 'Female':\n",
        "    compas['sex'][i] = 1\n",
        "print(\"SEX VALUES AS BINARY:\",compas['sex'].value_counts())\n",
        "#Encode charge degree values\n",
        "print(\"CHARGE VALUES AS STRING: \", compas['c_charge_degree'].value_counts())\n",
        "for i in range(total):\n",
        "  if compas['c_charge_degree'][i] == 'M':\n",
        "    compas['c_charge_degree'][i] = 0\n",
        "  if compas['c_charge_degree'][i] == 'F':\n",
        "    compas['c_charge_degree'][i] = 1\n",
        "print(\"CHARGE VALUES AS BINARY: \", compas['c_charge_degree'].value_counts())\n",
        "print(total)\n",
        "for i in range(len(compas)):\n",
        "  if pd.to_datetime(compas[\"compas_screening_date\"][i]) >= datetime.datetime(2014, 4, 1):\n",
        "    compas = compas.drop([i])\n",
        "print(\"last date of modified dataset: \", compas[\"compas_screening_date\"].max(), \"length of compas: \", len(compas))\n",
        "\n",
        "compasfeat = compas.drop(['id', 'name', 'first', 'last','race','decile_score', 'juv_other_count','v_decile_score','compas_screening_date','dob', 'age_cat',  'days_b_screening_arrest', 'c_jail_in','c_jail_out',\n",
        "                        'c_case_number', 'c_offense_date', 'c_arrest_date', 'c_days_from_compas','c_charge_desc', 'r_case_number','r_charge_degree','is_recid',\n",
        "                        'r_days_from_arrest', 'r_offense_date','r_charge_desc', 'r_jail_in','r_jail_out','is_violent_recid','two_year_recid', 'priors_count.1',\n",
        "                        'decile_score.1','vr_case_number','vr_charge_degree', 'vr_offense_date', 'vr_charge_desc','type_of_assessment','score_text', \n",
        "                        'screening_date', 'v_type_of_assessment', 'v_score_text', 'raceNum','v_screening_date', 'violent_recid', 'in_custody','out_custody','start','end','event' ], axis=1)\n",
        "\n",
        "print(\"Null values: \", compasfeat.isnull().values.any(), \"Sum: \", compasfeat.isnull().sum())\n",
        "\n",
        "x = np.array(compasfeat)\n",
        "y = np.array(compas[predict])\n",
        "\n",
        "\n",
        "print(len(compasfeat))\n",
        "scaler = sklearn.preprocessing.StandardScaler()\n",
        "x = scaler.fit_transform(x)\n",
        "\n",
        "epochs= 1000\n",
        "print(\"MEAN OF SCALED DATA: \", x.mean(axis=0))\n",
        "print(\"STANDARD DEVIATION OF SCALED DATA\", x.std(axis=0))\n",
        "print(len(compasfeat))\n",
        "\n",
        "\n",
        "print(\"Null values: \", compasfeat.isnull().values.any(), \"Sum: \", compasfeat.isnull().sum())\n",
        "\n",
        "linaccuracies= []\n",
        "best = 0\n",
        "for _ in range(epochs):\n",
        "  x_train2, x_test2, y_train2, y_test2 = sklearn.model_selection.train_test_split(x, y, test_size=.20)\n",
        "\n",
        "  #build the model\n",
        "  linear = linear_model.LogisticRegression(max_iter = 400)\n",
        "  linear.fit(x_train2, y_train2)\n",
        "  acc = linear.score(x_test2, y_test2)\n",
        "  acc = round(acc*100, 2)\n",
        "  linaccuracies.append(acc)\n",
        "  if best < acc:\n",
        "    best = acc\n",
        "    print(best)\n",
        "\n",
        "\n",
        "\"\"\"#open saved model\n",
        "opensplitraceLinear = pickle.load(open(\"splitraceLinear.sav\", \"rb\"))\"\"\"\n",
        "#results\n",
        "splitraceLinear = 'splitraceLinear.sav'\n",
        "pickle.dump(linear, open(splitraceLinear, 'wb'))\n",
        "\n",
        "print(linaccuracies)\n",
        "linmeans = np.mean(linaccuracies, 0)\n",
        "linstds = np.std(linaccuracies, 0)\n",
        "linci95 = 1.96*linstds/np.sqrt(epochs)\n",
        "linear_matrix = confusion_matrix(y_test2, linear.predict(x_test2))\n",
        "\n",
        "\n",
        "i = 66\n",
        "explainer = lime.lime_tabular.LimeTabularExplainer(x_train2, mode='classification', feature_names = compasfeat.columns.values, class_names=['no recid', 'recid'], verbose=True, discretize_continuous=True, discretizer='quartile')\n",
        "print(\"Logisitic regression classifier accuracy: \",best, \"\\nprediction: \", linear.predict(x_test2[i].reshape(1, -1)), \"\\nPredict probability: \", linear.predict_proba(x_test2[i].reshape(1, -1)), \"\\nConfusion Matrix:\\n\", linear_matrix)\n",
        "\n",
        "print(\"prisoner information:\\n\", x_test2[i],y_test2[i])\n",
        "print(\"Judges on the features: \", compasfeat.columns)\n",
        "print(\"Linear: \\n\")\n",
        "exp = explainer.explain_instance(x_test2[i], linear.predict_proba, num_features=len(compasfeat.columns))\n",
        "#exp.show_in_notebook(show_table=True)\n",
        "linearimg = exp.as_pyplot_figure()\n",
        "plt.xlabel('prediciton probabilities by feature')\n",
        "plt.ylabel('feature name and range')\n",
        "plt.tight_layout()\n",
        "linearimg.savefig('splitracelinearexp', format='pdf',bbox_inches='tight')\n",
        "plt.show()\n",
        "\n",
        "y_pred_proba = linear.predict_proba(x_test2)[::,1]\n",
        "fpr, tpr, _ = metrics.roc_curve(y_test2,  y_pred_proba)\n",
        "auc = round(metrics.roc_auc_score(y_test2, y_pred_proba),2)\n",
        "plt.plot(fpr,tpr,label=\"data 1, auc=\"+str(auc))\n",
        "plt.legend(loc=4)\n",
        "plt.savefig('splitraceLRAUC.pdf', format='pdf',bbox_inches='tight')\n",
        "plt.show()\n",
        "\n",
        "print(\"Mean validation accuracy/loss: \", linmeans, \"stddev: \", linstds, \"Confidence Interval: \",linci95)\n"
      ],
      "execution_count": null,
      "outputs": [
        {
          "output_type": "stream",
          "text": [
            "Sex values as string: Male      5822\n",
            "Female    1397\n",
            "Name: sex, dtype: int64\n"
          ],
          "name": "stdout"
        },
        {
          "output_type": "stream",
          "text": [
            "/usr/local/lib/python3.7/dist-packages/ipykernel_launcher.py:33: SettingWithCopyWarning: \n",
            "A value is trying to be set on a copy of a slice from a DataFrame\n",
            "\n",
            "See the caveats in the documentation: https://pandas.pydata.org/pandas-docs/stable/user_guide/indexing.html#returning-a-view-versus-a-copy\n",
            "/usr/local/lib/python3.7/dist-packages/ipykernel_launcher.py:35: SettingWithCopyWarning: \n",
            "A value is trying to be set on a copy of a slice from a DataFrame\n",
            "\n",
            "See the caveats in the documentation: https://pandas.pydata.org/pandas-docs/stable/user_guide/indexing.html#returning-a-view-versus-a-copy\n"
          ],
          "name": "stderr"
        },
        {
          "output_type": "stream",
          "text": [
            "SEX VALUES AS BINARY: 0    5822\n",
            "1    1397\n",
            "Name: sex, dtype: int64\n",
            "CHARGE VALUES AS STRING:  F    4670\n",
            "M    2549\n",
            "Name: c_charge_degree, dtype: int64\n"
          ],
          "name": "stdout"
        },
        {
          "output_type": "stream",
          "text": [
            "/usr/local/lib/python3.7/dist-packages/ipykernel_launcher.py:43: SettingWithCopyWarning: \n",
            "A value is trying to be set on a copy of a slice from a DataFrame\n",
            "\n",
            "See the caveats in the documentation: https://pandas.pydata.org/pandas-docs/stable/user_guide/indexing.html#returning-a-view-versus-a-copy\n",
            "/usr/local/lib/python3.7/dist-packages/ipykernel_launcher.py:41: SettingWithCopyWarning: \n",
            "A value is trying to be set on a copy of a slice from a DataFrame\n",
            "\n",
            "See the caveats in the documentation: https://pandas.pydata.org/pandas-docs/stable/user_guide/indexing.html#returning-a-view-versus-a-copy\n"
          ],
          "name": "stderr"
        },
        {
          "output_type": "stream",
          "text": [
            "CHARGE VALUES AS BINARY:  1    4670\n",
            "0    2549\n",
            "Name: c_charge_degree, dtype: int64\n",
            "7219\n",
            "last date of modified dataset:  2014-03-31 length of compas:  6212\n",
            "Null values:  False Sum:  sex                  0\n",
            "age                  0\n",
            "isAfricanAmerican    0\n",
            "isCaucasian          0\n",
            "isHispanic           0\n",
            "isAsian              0\n",
            "isOther              0\n",
            "isNativeAmerican     0\n",
            "juv_fel_count        0\n",
            "juv_misd_count       0\n",
            "priors_count         0\n",
            "c_charge_degree      0\n",
            "dtype: int64\n",
            "6212\n",
            "MEAN OF SCALED DATA:  [-3.66023302e-17  1.99025171e-16  1.40690207e-16  9.15058256e-18\n",
            "  5.71911410e-18  1.94449879e-17  1.83011651e-17  2.28764564e-17\n",
            "  4.06057101e-17 -1.94449879e-17  2.28764564e-17 -7.93527081e-17]\n",
            "STANDARD DEVIATION OF SCALED DATA [1. 1. 1. 1. 1. 1. 1. 1. 1. 1. 1. 1.]\n",
            "6212\n",
            "Null values:  False Sum:  sex                  0\n",
            "age                  0\n",
            "isAfricanAmerican    0\n",
            "isCaucasian          0\n",
            "isHispanic           0\n",
            "isAsian              0\n",
            "isOther              0\n",
            "isNativeAmerican     0\n",
            "juv_fel_count        0\n",
            "juv_misd_count       0\n",
            "priors_count         0\n",
            "c_charge_degree      0\n",
            "dtype: int64\n",
            "69.67\n",
            "71.84\n",
            "71.92\n",
            "72.16\n",
            "72.49\n",
            "73.13\n",
            "[69.67, 69.27, 68.87, 68.79, 69.27, 71.84, 69.11, 68.46, 68.87, 68.7, 68.06, 68.06, 68.06, 70.72, 69.75, 68.22, 69.99, 68.22, 67.9, 68.22, 67.9, 70.23, 68.95, 69.43, 70.15, 69.91, 70.72, 67.58, 69.43, 71.92, 69.03, 68.54, 72.16, 70.23, 69.11, 68.3, 70.56, 71.04, 70.88, 68.38, 67.82, 69.35, 69.67, 70.07, 68.95, 70.47, 70.72, 68.95, 69.91, 70.31, 71.04, 70.07, 68.3, 68.46, 68.38, 68.7, 67.82, 67.18, 68.22, 67.34, 68.95, 68.06, 69.27, 68.14, 69.75, 68.95, 69.75, 69.11, 67.1, 67.34, 67.5, 69.99, 70.07, 67.5, 67.74, 69.19, 68.95, 67.66, 69.59, 69.19, 69.59, 68.95, 68.54, 68.79, 70.31, 68.14, 69.11, 66.53, 68.95, 70.15, 69.11, 70.23, 71.12, 69.27, 69.19, 69.51, 69.11, 67.02, 68.62, 69.67, 69.75, 68.3, 68.38, 70.8, 67.5, 70.56, 69.11, 69.35, 67.9, 68.06, 67.66, 70.96, 69.19, 67.74, 70.72, 70.39, 66.77, 68.62, 69.67, 70.23, 68.38, 68.54, 69.75, 68.3, 69.51, 69.67, 69.51, 68.54, 69.19, 68.62, 70.56, 69.59, 66.77, 68.22, 70.88, 70.23, 69.51, 71.12, 69.19, 69.19, 68.7, 70.64, 69.27, 66.61, 68.14, 68.22, 67.9, 69.75, 67.02, 68.14, 69.19, 66.37, 66.05, 67.58, 69.51, 68.46, 70.56, 71.36, 70.07, 68.87, 71.36, 69.67, 68.95, 70.23, 68.46, 71.36, 69.03, 68.95, 69.75, 68.95, 69.67, 68.54, 69.11, 68.06, 68.14, 69.19, 67.66, 70.31, 69.75, 70.07, 70.07, 67.9, 70.56, 67.82, 70.07, 69.19, 69.27, 70.31, 68.38, 68.95, 69.75, 68.3, 69.35, 69.35, 71.2, 67.74, 68.95, 69.11, 69.91, 72.49, 69.03, 69.91, 69.99, 70.64, 70.15, 70.15, 66.69, 69.83, 69.27, 70.15, 68.87, 69.99, 68.3, 66.53, 68.38, 67.42, 66.77, 70.56, 71.12, 68.46, 71.76, 68.62, 69.67, 71.36, 69.75, 68.46, 67.98, 67.58, 68.22, 69.03, 68.38, 71.12, 67.98, 66.85, 69.11, 69.11, 70.56, 68.87, 70.47, 68.3, 68.7, 70.07, 68.14, 68.79, 67.5, 70.23, 70.47, 69.11, 68.95, 71.28, 68.95, 68.79, 69.83, 69.35, 68.95, 70.31, 69.51, 68.22, 70.31, 68.7, 68.14, 68.87, 68.46, 71.04, 69.43, 69.35, 70.8, 69.03, 69.43, 69.59, 68.95, 69.27, 69.51, 71.44, 68.54, 69.59, 69.35, 70.8, 69.35, 68.54, 70.96, 68.06, 69.51, 69.91, 70.8, 71.92, 67.98, 68.14, 70.31, 69.91, 69.67, 69.51, 69.19, 69.75, 67.98, 71.12, 69.75, 70.15, 69.43, 71.36, 68.87, 70.23, 67.74, 66.93, 70.23, 68.79, 69.91, 69.35, 71.36, 70.47, 69.83, 68.22, 68.38, 68.06, 71.2, 70.64, 69.35, 68.14, 68.79, 68.54, 68.46, 69.11, 68.06, 68.95, 71.04, 70.88, 67.1, 66.77, 68.46, 72.0, 71.68, 70.31, 70.47, 70.72, 70.64, 67.5, 69.91, 69.11, 68.79, 68.62, 70.8, 69.83, 70.15, 69.35, 70.15, 67.1, 67.74, 69.11, 67.1, 67.98, 69.03, 71.84, 68.54, 69.51, 70.88, 69.91, 70.15, 72.08, 69.51, 69.67, 70.64, 67.1, 68.22, 69.19, 68.14, 69.11, 68.38, 70.15, 70.56, 70.23, 67.74, 69.11, 69.19, 68.38, 66.53, 71.36, 70.39, 67.58, 67.82, 70.39, 71.68, 69.99, 71.44, 67.1, 67.98, 68.54, 70.64, 69.67, 69.99, 67.26, 69.27, 67.26, 71.12, 69.03, 70.07, 72.16, 69.03, 68.87, 69.83, 68.22, 69.59, 70.56, 69.35, 66.77, 70.23, 70.23, 69.83, 69.43, 69.35, 69.19, 68.95, 70.8, 68.3, 70.39, 67.26, 69.51, 69.03, 67.82, 67.74, 69.35, 70.88, 69.91, 70.96, 68.87, 69.59, 68.7, 68.87, 68.06, 70.31, 71.44, 67.18, 67.98, 68.87, 68.46, 69.43, 67.9, 67.9, 68.7, 69.91, 69.83, 68.62, 69.83, 71.68, 68.06, 67.58, 69.11, 69.99, 68.95, 67.66, 70.31, 69.75, 70.8, 71.44, 69.83, 67.5, 67.1, 67.1, 68.87, 67.42, 67.82, 69.75, 68.14, 68.06, 69.75, 70.15, 68.62, 65.49, 67.26, 69.19, 70.23, 69.11, 67.42, 70.96, 69.67, 69.99, 69.27, 67.34, 68.06, 70.96, 69.51, 68.14, 70.23, 72.16, 70.96, 68.54, 67.98, 69.91, 68.3, 69.03, 69.11, 70.15, 68.46, 70.15, 67.02, 69.03, 67.1, 69.67, 69.67, 69.51, 68.62, 69.03, 66.61, 69.27, 70.23, 71.44, 70.56, 67.82, 68.62, 70.88, 69.59, 70.31, 71.04, 68.54, 69.03, 69.99, 66.69, 72.0, 69.27, 69.27, 69.19, 68.87, 66.29, 68.7, 67.82, 68.06, 69.91, 68.06, 69.03, 69.43, 69.59, 68.38, 71.84, 69.43, 68.95, 67.42, 70.72, 68.62, 71.12, 70.23, 67.66, 67.5, 69.11, 71.36, 71.04, 71.44, 69.03, 69.67, 70.88, 67.82, 67.1, 66.85, 70.72, 69.91, 69.83, 67.98, 70.8, 68.7, 69.11, 67.18, 67.5, 68.95, 66.69, 69.03, 69.99, 68.22, 70.23, 68.22, 68.79, 69.83, 69.35, 71.44, 70.39, 69.67, 68.3, 67.18, 69.83, 69.99, 69.67, 68.54, 68.7, 70.96, 70.07, 69.03, 69.67, 69.11, 68.22, 68.62, 68.79, 69.03, 69.11, 69.99, 67.42, 70.72, 67.1, 67.98, 68.62, 68.79, 69.83, 68.22, 69.59, 67.42, 69.35, 70.23, 67.82, 68.87, 70.8, 68.14, 67.1, 71.52, 68.3, 70.39, 68.62, 68.95, 68.3, 69.51, 67.82, 69.19, 68.87, 68.54, 67.9, 65.81, 67.9, 68.22, 70.96, 70.47, 68.06, 68.95, 70.64, 68.46, 69.59, 68.38, 68.95, 69.75, 70.15, 70.88, 69.11, 67.02, 69.43, 69.91, 67.98, 68.79, 68.38, 67.82, 68.79, 71.52, 66.61, 68.95, 68.3, 69.75, 68.95, 70.56, 69.59, 67.5, 70.64, 69.75, 71.36, 69.83, 69.03, 71.36, 68.06, 69.51, 67.5, 68.62, 68.95, 69.11, 68.54, 67.98, 69.51, 69.43, 68.22, 67.58, 70.72, 69.11, 69.11, 69.75, 68.95, 69.43, 71.2, 69.91, 67.66, 66.53, 70.31, 70.8, 69.83, 68.7, 69.59, 68.06, 68.38, 68.95, 69.91, 69.99, 69.11, 69.11, 67.02, 70.39, 70.72, 67.82, 71.12, 67.98, 68.54, 68.79, 68.62, 70.64, 69.83, 68.3, 68.87, 70.39, 70.47, 69.27, 69.75, 66.93, 69.35, 68.06, 68.54, 70.07, 69.43, 68.14, 69.35, 70.15, 69.19, 69.99, 70.39, 68.79, 68.7, 70.31, 73.13, 69.51, 69.67, 70.64, 69.83, 71.6, 69.27, 68.3, 68.62, 72.0, 70.31, 68.7, 67.9, 68.38, 70.31, 70.07, 70.64, 69.35, 69.43, 69.51, 69.59, 69.59, 68.7, 69.03, 70.31, 69.03, 72.49, 67.18, 68.79, 70.15, 67.82, 67.02, 68.87, 70.47, 68.7, 66.69, 71.2, 69.67, 70.07, 69.99, 69.35, 70.72, 68.95, 72.08, 69.03, 67.66, 72.24, 69.19, 68.79, 69.11, 68.54, 67.02, 66.85, 71.36, 70.15, 70.8, 68.22, 70.39, 67.34, 71.6, 69.75, 67.1, 69.75, 68.54, 69.27, 65.73, 68.54, 68.87, 70.39, 68.46, 69.27, 70.64, 70.47, 69.43, 69.35, 69.35, 69.99, 69.83, 70.39, 71.44, 69.51, 69.35, 68.95, 68.7, 68.06, 70.39, 69.99, 69.11, 67.42, 71.6, 66.29, 70.23, 69.11, 68.62, 69.43, 68.54, 69.35, 70.64, 68.87, 69.75, 68.62, 70.31, 68.54, 68.3, 67.9, 68.87, 67.98, 70.07, 69.11, 69.03, 67.9, 70.64, 68.95, 69.75, 68.22, 68.79, 69.51, 68.87, 70.8, 69.59, 70.56, 70.23, 69.11, 69.91, 69.03, 68.3, 70.88, 71.52, 69.19, 68.22, 69.27, 69.67, 70.23, 69.67, 69.83, 68.14, 67.42, 69.19, 67.74, 69.59, 68.87, 69.11, 71.68, 70.56, 72.16, 70.56, 69.11, 71.04, 70.39, 69.51, 68.62, 69.43, 67.58, 70.15, 69.43, 69.75, 68.7, 67.98, 70.56, 68.7, 71.28, 68.14, 70.56, 68.62, 70.31, 71.36, 70.31, 69.03, 70.15, 69.27, 68.87, 70.23, 69.91, 69.67, 67.58, 68.87, 71.2, 66.61, 69.11, 69.59, 69.91, 69.43, 69.75, 69.43, 68.14, 69.91, 70.15, 69.27, 69.03, 68.46, 69.11, 69.19, 68.95, 69.43, 69.91, 70.56, 68.62, 68.3, 69.99, 68.95, 69.91, 67.58, 69.03, 69.03, 67.74, 69.19, 67.82, 68.79, 67.42, 68.38, 68.95, 68.79, 68.62, 69.43, 67.82, 67.74, 72.24, 70.23, 69.67, 69.19, 69.19, 70.39, 70.39, 69.27, 70.39, 66.93, 69.67, 67.82, 72.16, 70.07, 69.19, 70.31, 68.95, 69.35, 67.5, 70.15, 68.54, 69.67, 70.15, 68.14, 69.75, 69.83, 69.43, 68.95, 68.87, 67.82, 67.74, 66.69, 68.54, 70.72, 68.38, 69.51, 69.67, 67.9, 68.3, 71.2, 67.5, 69.27, 68.62, 69.51, 68.22, 69.27, 69.11, 69.19, 68.46, 68.7, 69.59, 70.23, 70.15, 72.24, 67.9, 69.19, 69.11, 70.88, 70.23]\n",
            "Logisitic regression classifier accuracy:  73.13 \n",
            "prediction:  [0] \n",
            "Predict probability:  [[0.61526233 0.38473767]] \n",
            "Confusion Matrix:\n",
            " [[652 109]\n",
            " [261 221]]\n",
            "prisoner information:\n",
            " [-0.49284598 -0.77435715 -1.00905581  1.38237669 -0.31507851 -0.06728903\n",
            " -0.24100228 -0.04752676 -0.14618636 -0.17619442 -0.70228365 -1.31916082] 0\n",
            "Judges on the features:  Index(['sex', 'age', 'isAfricanAmerican', 'isCaucasian', 'isHispanic',\n",
            "       'isAsian', 'isOther', 'isNativeAmerican', 'juv_fel_count',\n",
            "       'juv_misd_count', 'priors_count', 'c_charge_degree'],\n",
            "      dtype='object')\n",
            "Linear: \n",
            "\n",
            "Intercept 0.3440270715484991\n",
            "Prediction_local [0.53447913]\n",
            "Right: 0.3847376676167157\n"
          ],
          "name": "stdout"
        },
        {
          "output_type": "display_data",
          "data": {
            "image/png": "[encoded data removed]",
            "text/plain": [
              "<Figure size 432x288 with 1 Axes>"
            ]
          },
          "metadata": {
            "tags": [],
            "needs_background": "light"
          }
        },
        {
          "output_type": "display_data",
          "data": {
            "image/png": "[encoded data removed]",
            "text/plain": [
              "<Figure size 432x288 with 1 Axes>"
            ]
          },
          "metadata": {
            "tags": [],
            "needs_background": "light"
          }
        },
        {
          "output_type": "stream",
          "text": [
            "Mean validation accuracy/loss:  69.23257000000001 stddev:  1.215355707231426 Confidence Interval:  0.07532852716186716\n",
            "0.6959111397295557\n"
          ],
          "name": "stdout"
        }
      ]
    },
    {
      "cell_type": "code",
      "metadata": {
        "colab": {
          "base_uri": "https://localhost:8080/"
        },
        "id": "eZWS6ib2ZM1_",
        "outputId": "73756b5e-55a4-485f-88a8-d25067958a28"
      },
      "source": [
        "testfeat = compas.drop(['id', 'name', 'first', 'last','decile_score', 'juv_other_count','v_decile_score','compas_screening_date','dob', 'age_cat',  'days_b_screening_arrest', 'c_jail_in','c_jail_out',\n",
        "                        'c_case_number', 'c_offense_date', 'c_arrest_date', 'c_days_from_compas','c_charge_desc', 'r_case_number','r_charge_degree','is_recid',\n",
        "                        'r_days_from_arrest', 'r_offense_date','r_charge_desc', 'r_jail_in','r_jail_out','is_violent_recid','two_year_recid', 'priors_count.1',\n",
        "                        'decile_score.1','vr_case_number','vr_charge_degree', 'vr_offense_date', 'vr_charge_desc','type_of_assessment','score_text', \n",
        "                        'screening_date', 'v_type_of_assessment', 'v_score_text', 'raceNum','v_screening_date', 'violent_recid', 'in_custody','out_custody','start','end','event' ], axis=1)\n",
        "\n",
        "\n",
        "x1 = np.array(testfeat)\n",
        "y1 = np.array(compas[predict])\n",
        "print(x_test2)\n",
        "totalresults = linear.predict(x_test2)\n",
        "print(totalresults)"
      ],
      "execution_count": null,
      "outputs": [
        {
          "output_type": "stream",
          "text": [
            "[[-0.49284598  1.39481523  0.99102546 ... -0.17619442  0.82362962\n",
            "   0.75805769]\n",
            " [-0.49284598 -0.35720862  0.99102546 ... -0.17619442  2.56753049\n",
            "   0.75805769]\n",
            " [-0.49284598 -1.02464627  0.99102546 ... -0.17619442 -0.48429604\n",
            "   0.75805769]\n",
            " ...\n",
            " [-0.49284598  0.14336963  0.99102546 ... -0.17619442 -0.70228365\n",
            "   0.75805769]\n",
            " [-0.49284598 -0.60749774 -1.00905581 ... -0.17619442  1.25960483\n",
            "  -1.31916082]\n",
            " [-0.49284598  0.05993992 -1.00905581 ... -0.17619442 -0.48429604\n",
            "   0.75805769]]\n",
            "[0 1 0 ... 0 1 0]\n"
          ],
          "name": "stdout"
        }
      ]
    }
  ]
}