{
  "nbformat": 4,
  "nbformat_minor": 0,
  "metadata": {
    "colab": {
      "name": "BigdataLR.ipynb",
      "provenance": []
    },
    "kernelspec": {
      "name": "python3",
      "display_name": "Python 3"
    },
    "language_info": {
      "name": "python"
    }
  },
  "cells": [
    {
      "cell_type": "code",
      "metadata": {
        "id": "Z2Hq2_H2Y7P5"
      },
      "source": [
        "!pip install lime\n",
        "!pip install seaborn\n",
        "!pip install lifelines"
      ],
      "execution_count": null,
      "outputs": []
    },
    {
      "cell_type": "code",
      "metadata": {
        "id": "O4DbHFOjY-iy",
        "colab": {
          "base_uri": "https://localhost:8080/",
          "height": 1000
        },
        "outputId": "659aa377-34c4-427d-f037-c9997ee8d772"
      },
      "source": [
        "from __future__ import print_function\n",
        "import pandas as pd\n",
        "import numpy as np\n",
        "import lime\n",
        "import lime.lime_tabular\n",
        "import sklearn.ensemble\n",
        "import sklearn.metrics\n",
        "from lime import lime_text\n",
        "from lime.lime_text import LimeTextExplainer\n",
        "import sklearn\n",
        "from sklearn.pipeline import make_pipeline\n",
        "from sklearn import linear_model\n",
        "import matplotlib.pyplot as plt\n",
        "from sklearn import preprocessing\n",
        "import sklearn.feature_extraction \n",
        "import seaborn as sns\n",
        "import pickle\n",
        "import datetime\n",
        "from datetime import timedelta\n",
        "import scipy.stats as st\n",
        "from sklearn import metrics\n",
        "from sklearn import svm\n",
        "from sklearn.metrics import confusion_matrix, plot_confusion_matrix\n",
        "\n",
        "compas = pd.read_csv(\"compas-scores.csv\")\n",
        "\n",
        "predict = 'is_recid'\n",
        "os = []\n",
        "o = []\n",
        "total = len(compas)\n",
        "for i in range(total):\n",
        "  if compas[predict][i] == -1:\n",
        "    os.append(compas.iloc[i])\n",
        "    compas[predict][i] = 0\n",
        "  if compas[\"c_charge_degree\"][i] == \"O\":\n",
        "    o.append(compas.iloc[i])\n",
        "    compas[\"c_charge_degree\"][i] = 'M'\n",
        "os = pd.DataFrame(os, columns =['sex','age','race','juv_fel_count','decile_score','juv_misd_count','juv_other_count','priors_count','c_charge_degree','v_decile_score','is_recid'] )\n",
        "o = pd.DataFrame(o,  columns =['sex','age','race','juv_fel_count','decile_score','juv_misd_count','juv_other_count','priors_count','c_charge_degree','v_decile_score','is_recid'] )\n",
        "print(\"number of -1: \", compas[\"is_recid\"].value_counts())\n",
        "print(\"recidivate decision in Os: \", o[\"is_recid\"].value_counts())\n",
        "print(\"O's: \", os[\"c_charge_degree\"].value_counts())\n",
        "#Encode sex values\n",
        "print(\"Sex values as string:\", compas['sex'].value_counts())\n",
        "for i in range(total):\n",
        "  if compas['sex'][i] == 'Male':\n",
        "    compas['sex'][i] = 0\n",
        "  if compas['sex'][i] == 'Female':\n",
        "    compas['sex'][i] = 1\n",
        "print(\"SEX VALUES AS BINARY:\",compas['sex'].value_counts())\n",
        "#Encode charge degree values\n",
        "print(\"CHARGE VALUES AS STRING: \", compas['c_charge_degree'].value_counts())\n",
        "for i in range(total):\n",
        "  if compas['c_charge_degree'][i] == 'M':\n",
        "    compas['c_charge_degree'][i] = 0\n",
        "  if compas['c_charge_degree'][i] == 'F':\n",
        "    compas['c_charge_degree'][i] = 1\n",
        "print(\"CHARGE VALUES AS BINARY: \", compas['c_charge_degree'].value_counts())\n",
        "print(total)\n",
        "print(\"last date of dataset: \", compas[\"compas_screening_date\"].max(), \"length of compas: \", len(compas))\n",
        "for i in range(len(compas)):\n",
        "  if pd.to_datetime(compas[\"compas_screening_date\"][i]) >= datetime.datetime(2014, 4, 1):\n",
        "    compas = compas.drop([i])\n",
        "print(\"last date of modified dataset: \", compas[\"compas_screening_date\"].max(), \"length of compas: \", len(compas))\n",
        "print(\"recids and not recids: \", compas[\"is_recid\"].value_counts())\n",
        "\n",
        "compasfeat = compas.drop(['id', 'name', 'first', 'last','race','decile_score', 'juv_other_count','v_decile_score','compas_screening_date','dob', 'age_cat', 'days_b_screening_arrest', \n",
        "                          'c_jail_in','c_jail_out','c_case_number', 'c_offense_date', 'c_arrest_date', 'c_days_from_compas','decile_score.1','vr_case_number','vr_charge_degree', \n",
        "                          'vr_offense_date', 'vr_charge_desc','type_of_assessment','score_text', 'r_charge_desc','screening_date', 'v_type_of_assessment', 'v_score_text', 'v_screening_date', \n",
        "                          'c_charge_desc','num_r_cases','r_case_number','r_days_from_arrest','r_offense_date','r_jail_in','r_jail_out','num_vr_cases', 'is_recid','r_charge_degree','is_violent_recid'], axis=1)\n",
        "\n",
        "print(\"Null values: \", compasfeat.isnull().values.any(), \"Sum: \", compasfeat.isnull().sum())\n",
        "print(len(compas))\n",
        "\n",
        "x = np.array(compasfeat)\n",
        "y = np.array(compas[predict])\n",
        "\n",
        "scaler = sklearn.preprocessing.StandardScaler()\n",
        "x = scaler.fit_transform(x)\n",
        "\n",
        "epochs= 1000\n",
        "print(\"MEAN OF SCALED DATA: \", x.mean(axis=0))\n",
        "print(\"STANDARD DEVIATION OF SCALED DATA\", x.std(axis=0))\n",
        "print(len(compasfeat))\n",
        "\n",
        "print(\"Null values: \", compasfeat.isnull().values.any(), \"Sum: \", compasfeat.isnull().sum())\n",
        "\n",
        "linaccuracies= []\n",
        "\n",
        "for _ in range(epochs):\n",
        "  x_train2, x_test2, y_train2, y_test2 = sklearn.model_selection.train_test_split(x, y, test_size=.20)\n",
        "\n",
        "  #build the model\n",
        "  linear = linear_model.LogisticRegression(max_iter = 400)\n",
        "  linear.fit(x_train2, y_train2)\n",
        "  acc = linear.score(x_test2, y_test2)\n",
        "  acc = round(acc*100, 2)\n",
        "  linaccuracies.append(acc)\n",
        "\n",
        "\n",
        "\"\"\"#open saved model\n",
        "openbigdataLinear = pickle.load(open(\"bigdataLinear.sav\", \"rb\"))\"\"\"\n",
        "#results\n",
        "bigdataLinear = 'bigdataLinear.sav'\n",
        "pickle.dump(linear, open(bigdataLinear, 'wb'))\n",
        "\n",
        "print(linaccuracies)\n",
        "linmeans = np.mean(linaccuracies, 0)\n",
        "linstds = np.std(linaccuracies, 0)\n",
        "linci95 = 1.96*linstds/np.sqrt(epochs)\n",
        "linear_matrix = confusion_matrix(y_test2, linear.predict(x_test2))\n",
        "\n",
        "\n",
        "i = 66\n",
        "explainer = lime.lime_tabular.LimeTabularExplainer(x_train2, mode='classification', feature_names = compasfeat.columns.values, class_names=['no recid', 'recid'], verbose=True, discretize_continuous=True, discretizer='quartile')\n",
        "print(\"Logisitic regression classifier accuracy: \",acc, \"\\nprediction: \", linear.predict(x_test2[i].reshape(1, -1)), \"\\nPredict probability: \", linear.predict_proba(x_test2[i].reshape(1, -1)), \"\\nConfusion Matrix:\\n\", linear_matrix)\n",
        "\n",
        "print(\"prisoner information:\\n\", x_test2[i],y_test2[i])\n",
        "print(\"Judges on the features: \", compasfeat.columns)\n",
        "print(\"Linear: \\n\")\n",
        "exp = explainer.explain_instance(x_test2[i], linear.predict_proba, num_features=len(compasfeat.columns))\n",
        "#exp.show_in_notebook(show_table=True)\n",
        "linearimg = exp.as_pyplot_figure()\n",
        "plt.xlabel('prediciton probabilities by feature')\n",
        "plt.ylabel('feature name and range')\n",
        "plt.tight_layout()\n",
        "linearimg.savefig('bigdatalinearexp', format='pdf',bbox_inches='tight')\n",
        "plt.show()\n",
        "\n",
        "y_pred_proba = linear.predict_proba(x_test2)[::,1]\n",
        "fpr, tpr, _ = metrics.roc_curve(y_test2,  y_pred_proba)\n",
        "auc = round(metrics.roc_auc_score(y_test2, y_pred_proba),2)\n",
        "plt.plot(fpr,tpr,label=\"data 1, auc=\"+str(auc))\n",
        "plt.legend(loc=4)\n",
        "plt.savefig('bigdataLRAUC.pdf', format='pdf',bbox_inches='tight')\n",
        "plt.show()\n",
        "\n",
        "print(\"Mean validation accuracy/loss: \", linmeans, \"stddev: \", linstds, \"Confidence Interval: \",linci95)"
      ],
      "execution_count": null,
      "outputs": [
        {
          "output_type": "stream",
          "text": [
            "/usr/local/lib/python3.7/dist-packages/ipykernel_launcher.py:34: SettingWithCopyWarning: \n",
            "A value is trying to be set on a copy of a slice from a DataFrame\n",
            "\n",
            "See the caveats in the documentation: https://pandas.pydata.org/pandas-docs/stable/user_guide/indexing.html#returning-a-view-versus-a-copy\n",
            "/usr/local/lib/python3.7/dist-packages/ipykernel_launcher.py:37: SettingWithCopyWarning: \n",
            "A value is trying to be set on a copy of a slice from a DataFrame\n",
            "\n",
            "See the caveats in the documentation: https://pandas.pydata.org/pandas-docs/stable/user_guide/indexing.html#returning-a-view-versus-a-copy\n"
          ],
          "name": "stderr"
        },
        {
          "output_type": "stream",
          "text": [
            "number of -1:  0    8054\n",
            "1    3703\n",
            "Name: is_recid, dtype: int64\n",
            "recidivate decision in Os:  0    729\n",
            "1     25\n",
            "Name: is_recid, dtype: int64\n",
            "O's:  O    718\n",
            "M      1\n",
            "Name: c_charge_degree, dtype: int64\n",
            "Sex values as string: Male      9336\n",
            "Female    2421\n",
            "Name: sex, dtype: int64\n"
          ],
          "name": "stdout"
        },
        {
          "output_type": "stream",
          "text": [
            "/usr/local/lib/python3.7/dist-packages/ipykernel_launcher.py:47: SettingWithCopyWarning: \n",
            "A value is trying to be set on a copy of a slice from a DataFrame\n",
            "\n",
            "See the caveats in the documentation: https://pandas.pydata.org/pandas-docs/stable/user_guide/indexing.html#returning-a-view-versus-a-copy\n",
            "/usr/local/lib/python3.7/dist-packages/ipykernel_launcher.py:49: SettingWithCopyWarning: \n",
            "A value is trying to be set on a copy of a slice from a DataFrame\n",
            "\n",
            "See the caveats in the documentation: https://pandas.pydata.org/pandas-docs/stable/user_guide/indexing.html#returning-a-view-versus-a-copy\n"
          ],
          "name": "stderr"
        },
        {
          "output_type": "stream",
          "text": [
            "SEX VALUES AS BINARY: 0    9336\n",
            "1    2421\n",
            "Name: sex, dtype: int64\n",
            "CHARGE VALUES AS STRING:  F    7232\n",
            "M    4525\n",
            "Name: c_charge_degree, dtype: int64\n"
          ],
          "name": "stdout"
        },
        {
          "output_type": "stream",
          "text": [
            "/usr/local/lib/python3.7/dist-packages/ipykernel_launcher.py:57: SettingWithCopyWarning: \n",
            "A value is trying to be set on a copy of a slice from a DataFrame\n",
            "\n",
            "See the caveats in the documentation: https://pandas.pydata.org/pandas-docs/stable/user_guide/indexing.html#returning-a-view-versus-a-copy\n",
            "/usr/local/lib/python3.7/dist-packages/ipykernel_launcher.py:55: SettingWithCopyWarning: \n",
            "A value is trying to be set on a copy of a slice from a DataFrame\n",
            "\n",
            "See the caveats in the documentation: https://pandas.pydata.org/pandas-docs/stable/user_guide/indexing.html#returning-a-view-versus-a-copy\n"
          ],
          "name": "stderr"
        },
        {
          "output_type": "stream",
          "text": [
            "CHARGE VALUES AS BINARY:  1    7232\n",
            "0    4525\n",
            "Name: c_charge_degree, dtype: int64\n",
            "11757\n",
            "last date of dataset:  2014-12-31 length of compas:  11757\n",
            "last date of modified dataset:  2014-03-31 length of compas:  7628\n",
            "recids and not recids:  0    5005\n",
            "1    2623\n",
            "Name: is_recid, dtype: int64\n",
            "Null values:  False Sum:  sex                0\n",
            "age                0\n",
            "juv_fel_count      0\n",
            "juv_misd_count     0\n",
            "priors_count       0\n",
            "c_charge_degree    0\n",
            "dtype: int64\n",
            "7628\n",
            "MEAN OF SCALED DATA:  [ 2.42188138e-17 -1.60216768e-16 -1.21094069e-17  1.39723925e-18\n",
            " -1.02464212e-17 -2.37530673e-17]\n",
            "STANDARD DEVIATION OF SCALED DATA [1. 1. 1. 1. 1. 1.]\n",
            "7628\n",
            "Null values:  False Sum:  sex                0\n",
            "age                0\n",
            "juv_fel_count      0\n",
            "juv_misd_count     0\n",
            "priors_count       0\n",
            "c_charge_degree    0\n",
            "dtype: int64\n",
            "[70.31, 69.66, 70.05, 69.72, 69.0, 70.51, 68.81, 68.22, 68.09, 68.15, 68.55, 68.68, 69.0, 69.4, 69.53, 68.81, 69.99, 69.92, 68.41, 69.92, 67.96, 70.25, 67.76, 67.82, 69.46, 68.35, 71.04, 68.15, 68.28, 69.59, 72.41, 68.61, 69.4, 71.17, 71.17, 68.94, 68.81, 69.33, 70.45, 69.92, 69.07, 68.74, 69.33, 69.79, 70.05, 69.4, 67.89, 67.63, 68.61, 67.69, 67.1, 69.46, 68.87, 69.59, 69.53, 68.68, 70.18, 68.81, 71.95, 69.2, 70.84, 67.56, 69.86, 69.86, 69.59, 68.94, 73.39, 69.59, 67.82, 68.35, 68.94, 68.55, 68.55, 68.94, 69.66, 69.33, 68.87, 69.66, 69.4, 70.9, 68.35, 68.28, 69.2, 68.61, 69.0, 68.28, 69.46, 69.46, 68.68, 69.53, 68.87, 72.15, 69.53, 70.05, 68.61, 70.25, 68.48, 68.81, 68.94, 70.38, 71.23, 69.99, 71.23, 71.23, 67.69, 68.41, 68.87, 69.86, 69.4, 68.28, 69.46, 67.3, 70.71, 69.2, 69.2, 69.2, 68.94, 69.13, 69.53, 67.69, 70.71, 68.48, 69.0, 69.27, 68.41, 68.74, 67.82, 69.99, 69.13, 69.2, 70.31, 69.27, 69.53, 69.53, 72.21, 68.55, 70.31, 69.53, 68.48, 70.9, 68.41, 68.28, 69.72, 71.23, 70.84, 69.46, 68.41, 68.55, 68.61, 70.25, 69.46, 69.46, 70.51, 70.45, 68.94, 69.92, 69.66, 71.63, 67.69, 68.09, 69.4, 67.56, 70.38, 68.94, 70.31, 68.15, 71.1, 69.86, 69.79, 67.37, 70.12, 69.33, 69.59, 70.51, 68.48, 69.13, 68.22, 70.12, 69.66, 68.94, 69.4, 70.64, 68.28, 69.59, 69.59, 70.18, 70.05, 68.81, 69.53, 68.61, 69.07, 68.22, 68.55, 68.15, 70.05, 70.45, 68.09, 69.46, 69.72, 69.79, 70.05, 70.9, 69.66, 69.13, 69.59, 69.4, 68.55, 70.64, 67.63, 66.84, 69.13, 71.89, 69.27, 68.22, 69.66, 70.45, 69.07, 69.0, 67.43, 69.13, 70.25, 71.89, 68.35, 70.51, 69.4, 68.74, 68.68, 68.68, 67.3, 68.41, 68.81, 69.33, 68.15, 70.58, 69.59, 70.45, 69.4, 69.2, 69.79, 68.28, 69.92, 69.99, 69.07, 71.23, 69.0, 70.31, 70.64, 69.46, 68.48, 70.51, 67.04, 70.31, 68.74, 69.13, 69.33, 68.09, 69.27, 67.69, 70.9, 68.22, 72.8, 70.25, 67.37, 68.74, 68.68, 69.66, 68.87, 67.5, 70.77, 70.25, 70.9, 69.59, 69.86, 69.33, 69.66, 69.07, 71.49, 69.13, 68.22, 67.82, 69.4, 68.22, 70.64, 67.82, 69.59, 70.12, 69.79, 69.86, 71.1, 68.22, 70.84, 69.2, 70.25, 70.38, 69.46, 71.76, 68.87, 69.99, 69.13, 68.28, 70.05, 69.4, 68.68, 70.38, 66.97, 69.99, 69.2, 71.36, 69.72, 69.0, 67.76, 69.72, 70.38, 68.28, 70.38, 70.71, 70.18, 69.27, 69.66, 70.9, 69.46, 67.96, 69.79, 69.99, 70.18, 68.94, 68.61, 70.05, 69.27, 68.87, 70.25, 69.92, 69.2, 69.2, 69.2, 68.35, 70.38, 68.74, 69.72, 70.05, 69.99, 69.0, 68.28, 66.58, 69.27, 69.72, 69.72, 70.18, 70.64, 70.51, 69.53, 68.02, 70.18, 70.58, 69.53, 68.22, 69.53, 71.56, 68.41, 70.25, 68.02, 69.53, 69.13, 68.55, 68.61, 68.74, 68.74, 68.87, 69.4, 69.33, 69.66, 67.89, 70.51, 67.89, 68.94, 69.99, 69.86, 69.86, 67.63, 69.2, 69.79, 69.4, 69.86, 68.87, 70.9, 69.72, 69.2, 68.94, 69.53, 71.36, 69.13, 67.3, 69.0, 68.48, 70.38, 68.74, 69.13, 71.76, 67.17, 69.27, 69.99, 70.38, 68.68, 70.18, 69.59, 69.72, 70.38, 70.18, 69.46, 68.55, 70.64, 70.51, 67.63, 66.78, 69.86, 69.4, 69.13, 68.41, 68.74, 71.36, 70.25, 70.18, 69.92, 68.41, 70.25, 68.22, 70.64, 68.87, 71.49, 69.53, 66.45, 68.48, 71.1, 69.07, 68.41, 69.66, 70.58, 69.07, 69.92, 68.41, 67.96, 68.09, 71.36, 71.17, 70.97, 68.55, 72.02, 69.0, 69.07, 68.55, 69.72, 70.25, 69.92, 68.74, 69.72, 69.46, 67.43, 69.53, 70.58, 70.45, 68.55, 68.15, 71.17, 69.99, 70.64, 68.61, 69.2, 68.15, 71.63, 67.23, 69.53, 70.38, 69.0, 70.51, 69.27, 69.13, 68.55, 67.89, 69.86, 68.55, 68.87, 69.66, 67.96, 68.09, 68.35, 70.84, 69.59, 68.81, 69.4, 71.49, 67.3, 68.41, 69.79, 69.2, 68.94, 69.0, 70.84, 67.43, 69.59, 69.72, 68.87, 70.31, 69.92, 69.33, 70.05, 69.66, 69.27, 70.84, 67.76, 69.53, 69.13, 67.96, 71.17, 67.43, 66.71, 69.53, 69.79, 68.61, 67.04, 68.02, 69.72, 70.31, 69.27, 71.56, 69.07, 68.48, 69.33, 70.58, 70.9, 69.53, 70.64, 68.81, 68.74, 71.43, 69.86, 66.91, 70.05, 69.2, 68.74, 70.05, 68.28, 70.51, 69.33, 68.61, 69.33, 69.07, 68.61, 67.89, 71.69, 70.58, 69.46, 68.41, 68.68, 69.53, 70.31, 69.13, 68.15, 70.9, 70.05, 69.46, 69.92, 69.27, 70.58, 70.45, 68.61, 69.13, 71.23, 71.89, 70.05, 68.68, 70.71, 69.2, 71.82, 70.45, 69.66, 68.55, 70.97, 69.0, 67.82, 68.74, 68.87, 68.41, 70.84, 69.46, 67.82, 69.99, 69.27, 69.27, 71.17, 69.0, 70.31, 70.18, 69.33, 67.23, 68.74, 70.25, 68.74, 67.89, 70.77, 69.86, 69.79, 68.61, 69.79, 69.59, 71.49, 68.87, 69.4, 68.61, 70.97, 70.45, 71.36, 69.72, 68.87, 68.28, 67.5, 68.15, 70.71, 68.48, 69.72, 69.07, 67.89, 69.27, 68.41, 69.99, 69.99, 67.5, 69.4, 69.46, 67.56, 68.02, 67.17, 68.74, 68.68, 69.72, 71.23, 69.27, 69.33, 68.81, 69.4, 70.97, 68.35, 69.07, 67.04, 69.4, 68.94, 68.61, 70.64, 71.3, 71.04, 71.04, 71.69, 69.79, 68.74, 68.87, 68.48, 70.97, 70.64, 68.55, 68.35, 70.05, 67.96, 68.55, 71.1, 70.64, 68.41, 68.81, 69.13, 70.05, 71.17, 69.13, 69.53, 69.27, 68.94, 68.55, 68.35, 69.53, 71.3, 70.12, 69.86, 69.33, 69.92, 69.07, 69.0, 68.74, 68.94, 70.58, 68.81, 68.48, 69.2, 68.09, 67.82, 68.09, 69.0, 69.59, 69.07, 69.53, 69.99, 70.18, 68.74, 68.35, 69.99, 70.97, 68.02, 67.89, 68.48, 69.72, 67.69, 67.89, 68.02, 70.18, 68.81, 69.2, 69.59, 68.74, 68.74, 69.13, 69.59, 69.86, 69.99, 68.74, 70.25, 70.05, 69.66, 70.58, 69.99, 68.81, 69.07, 66.45, 70.45, 68.87, 71.1, 69.59, 69.53, 67.23, 69.72, 69.79, 69.53, 70.97, 68.55, 68.87, 68.55, 71.1, 70.58, 67.89, 69.66, 67.17, 70.64, 69.33, 68.55, 67.69, 69.0, 69.86, 69.72, 69.0, 68.15, 69.92, 68.87, 72.21, 69.92, 69.27, 71.23, 68.81, 69.92, 68.74, 69.07, 69.33, 70.25, 68.48, 68.81, 68.22, 69.07, 69.59, 70.71, 69.27, 67.5, 70.51, 69.72, 68.87, 71.82, 70.77, 70.9, 70.84, 69.2, 69.79, 71.1, 67.17, 71.69, 68.87, 68.87, 69.53, 68.94, 67.96, 67.69, 69.27, 69.66, 69.86, 68.48, 68.35, 67.56, 70.51, 69.07, 70.18, 66.84, 68.48, 66.84, 69.0, 68.35, 70.58, 70.12, 67.82, 69.72, 70.71, 69.99, 69.13, 70.18, 68.74, 69.86, 71.23, 69.46, 70.31, 70.05, 68.81, 69.99, 70.25, 68.02, 69.27, 69.2, 69.59, 70.31, 70.31, 71.23, 69.2, 67.69, 69.4, 69.59, 66.84, 69.92, 70.18, 69.07, 69.27, 70.18, 70.18, 68.87, 68.35, 69.92, 68.02, 69.53, 69.86, 69.72, 70.25, 68.81, 69.13, 69.66, 69.2, 71.17, 68.55, 67.96, 67.89, 68.87, 69.86, 69.99, 69.92, 67.5, 68.81, 70.64, 69.99, 69.27, 70.71, 68.48, 69.13, 69.4, 69.13, 67.96, 69.53, 68.48, 69.86, 67.96, 70.38, 70.71, 71.82, 69.53, 69.33, 71.23, 69.0, 69.72, 69.0, 67.04, 69.07, 69.53, 71.95, 69.53, 69.0, 69.79, 69.13, 69.66, 69.86, 68.94, 69.27, 67.69, 68.68, 69.4, 69.27, 69.13, 69.99, 71.49, 69.13, 69.92, 67.89, 69.27, 69.07, 68.94, 68.87, 68.87, 70.31, 68.55, 69.86, 69.27, 69.46, 69.86, 71.69, 70.31, 69.79, 67.76, 69.0, 69.59, 69.92, 69.13, 70.05, 68.68, 69.66, 68.87, 68.81, 66.97, 68.22, 68.74, 69.92, 68.41, 68.35, 68.87, 70.05, 69.86, 70.64, 68.61, 70.05, 69.79, 68.02, 69.13, 67.96, 70.51, 70.31, 68.02, 70.18, 69.27, 70.77, 70.45, 70.12, 70.45, 68.55, 68.48, 67.63, 68.68, 70.51, 68.74, 68.74, 69.27, 68.87, 68.55, 69.53, 69.92, 69.33, 69.0, 70.38, 70.77, 70.97, 70.38, 69.72, 69.99, 68.68, 69.53, 70.12, 70.18, 69.27, 68.28, 69.2, 68.55, 68.87, 68.48, 68.15, 67.76, 68.55, 68.22, 68.35, 67.63, 67.63, 70.45, 67.5, 69.92, 70.51, 68.55, 70.51]\n",
            "Logisitic regression classifier accuracy:  70.51 \n",
            "prediction:  [0] \n",
            "Predict probability:  [[0.75379966 0.24620034]] \n",
            "Confusion Matrix:\n",
            " [[930  81]\n",
            " [369 146]]\n",
            "prisoner information:\n",
            " [-0.48549343  0.22284079 -0.15038915 -0.17044648 -0.67960744  0.79740626] 0\n",
            "Judges on the features:  Index(['sex', 'age', 'juv_fel_count', 'juv_misd_count', 'priors_count',\n",
            "       'c_charge_degree'],\n",
            "      dtype='object')\n",
            "Linear: \n",
            "\n",
            "Intercept 0.36154095767420247\n",
            "Prediction_local [0.32952703]\n",
            "Right: 0.2462003431080273\n"
          ],
          "name": "stdout"
        },
        {
          "output_type": "display_data",
          "data": {
            "image/png": "[encoded data removed]",
            "text/plain": [
              "<Figure size 432x288 with 1 Axes>"
            ]
          },
          "metadata": {
            "tags": [],
            "needs_background": "light"
          }
        },
        {
          "output_type": "display_data",
          "data": {
            "image/png": "[encoded data removed]",
            "text/plain": [
              "<Figure size 432x288 with 1 Axes>"
            ]
          },
          "metadata": {
            "tags": [],
            "needs_background": "light"
          }
        },
        {
          "output_type": "stream",
          "text": [
            "Mean validation accuracy/loss:  69.36643000000001 stddev:  1.062376559935318 Confidence Interval:  0.0658467813785318\n"
          ],
          "name": "stdout"
        }
      ]
    }
  ]
}