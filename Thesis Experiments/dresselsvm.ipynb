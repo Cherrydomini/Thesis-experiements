{
  "nbformat": 4,
  "nbformat_minor": 0,
  "metadata": {
    "colab": {
      "name": "dresselsvm.ipynb",
      "provenance": []
    },
    "kernelspec": {
      "name": "python3",
      "display_name": "Python 3"
    },
    "language_info": {
      "name": "python"
    }
  },
  "cells": [
    {
      "cell_type": "code",
      "metadata": {
        "id": "bB1eBgchThNk"
      },
      "source": [
        "!pip install lime\n",
        "!pip install seaborn\n",
        "!pip install lifelines"
      ],
      "execution_count": null,
      "outputs": []
    },
    {
      "cell_type": "code",
      "metadata": {
        "colab": {
          "base_uri": "https://localhost:8080/",
          "height": 1000
        },
        "id": "9zKMNOZ0TpBx",
        "outputId": "fb2cc17f-0c12-4987-c6ce-c4a370814e59"
      },
      "source": [
        "from __future__ import print_function\n",
        "import pandas as pd\n",
        "import numpy as np\n",
        "import lime\n",
        "import lime.lime_tabular\n",
        "import sklearn.ensemble\n",
        "import sklearn.metrics\n",
        "from lime import lime_text\n",
        "from lime.lime_text import LimeTextExplainer\n",
        "import sklearn\n",
        "from sklearn.pipeline import make_pipeline\n",
        "from sklearn import linear_model\n",
        "import matplotlib.pyplot as plt\n",
        "from sklearn import preprocessing\n",
        "import sklearn.feature_extraction \n",
        "import seaborn as sns\n",
        "import pickle\n",
        "import datetime\n",
        "from datetime import timedelta\n",
        "import scipy.stats as st\n",
        "from sklearn import metrics\n",
        "from sklearn import svm\n",
        "from sklearn.metrics import confusion_matrix, plot_confusion_matrix\n",
        "\n",
        "compas = pd.read_csv(\"compas-scores-two-years.csv\")\n",
        "\n",
        "predict = 'is_recid'\n",
        "total = len(compas)\n",
        "#Encode sex values\n",
        "print(\"Sex values as string:\", compas['sex'].value_counts())\n",
        "for i in range(total):\n",
        "  if compas['sex'][i] == 'Male':\n",
        "    compas['sex'][i] = 0\n",
        "  if compas['sex'][i] == 'Female':\n",
        "    compas['sex'][i] = 1\n",
        "print(\"SEX VALUES AS BINARY:\",compas['sex'].value_counts())\n",
        "#Encode charge degree values\n",
        "print(\"CHARGE VALUES AS STRING: \", compas['c_charge_degree'].value_counts())\n",
        "for i in range(total):\n",
        "  if compas['c_charge_degree'][i] == 'M':\n",
        "    compas['c_charge_degree'][i] = 0\n",
        "  if compas['c_charge_degree'][i] == 'F':\n",
        "    compas['c_charge_degree'][i] = 1\n",
        "print(\"CHARGE VALUES AS BINARY: \", compas['c_charge_degree'].value_counts())\n",
        "\n",
        "\n",
        "compasfeat = compas.drop(['id', 'name', 'first', 'last','race','decile_score', 'juv_other_count','v_decile_score','compas_screening_date','dob', 'age_cat',  'days_b_screening_arrest', 'c_jail_in','c_jail_out',\n",
        "                        'c_case_number', 'c_offense_date', 'c_arrest_date', 'c_days_from_compas','c_charge_desc', 'r_case_number','r_charge_degree','is_recid',\n",
        "                        'r_days_from_arrest', 'r_offense_date','r_charge_desc', 'r_jail_in','r_jail_out','is_violent_recid','two_year_recid', 'priors_count.1',\n",
        "                        'decile_score.1','vr_case_number','vr_charge_degree', 'vr_offense_date', 'vr_charge_desc','type_of_assessment','score_text', \n",
        "                        'screening_date', 'v_type_of_assessment', 'v_score_text', 'v_screening_date', 'violent_recid', 'in_custody','out_custody','start','end','event' ], axis=1)\n",
        "\n",
        "print(\"Null values: \", compasfeat.isnull().values.any(), \"Sum: \", compasfeat.isnull().sum())\n",
        "\n",
        "x = np.array(compasfeat)\n",
        "y = np.array(compas[predict])\n",
        "\n",
        "epochs = 1000\n",
        "\n",
        "print(compasfeat.columns)\n",
        "svmaccuracies= []\n",
        "\"\"\"for _ in range(epochs):\n",
        "    x_train3, x_test3, y_train3, y_test3 = sklearn.model_selection.train_test_split(x, y, test_size=.20)\n",
        "    clf= svm.NuSVC(gamma='auto', probability=True)\n",
        "    clf.fit(x_train3, y_train3)\n",
        "    svmacc =clf.score(x_test3, y_test3)\n",
        "    svmacc = round(svmacc*100, 2)\n",
        "    svmaccuracies.append(svmacc)\n",
        "\n",
        "DresselSVM = 'DresselSVM.sav'\n",
        "pickle.dump(clf, open(DresselSVM, 'wb'))\n",
        "\"\"\"\n",
        "#open saved model\n",
        "openoriginalSVM = pickle.load(open(\"DresselSVM.sav\", \"rb\"))\n",
        "#results\n",
        "\n",
        "print(svmaccuracies)\n",
        "svmmeans = np.mean(svmaccuracies, 0)\n",
        "svmstds = np.std(svmaccuracies, 0)\n",
        "svmci95 = 1.96*svmstds/np.sqrt(epochs)\n",
        "\n",
        "i = 66\n",
        "\n",
        "print(\"prisoner information:\\n\", x_test3[i],y_test3[i])\n",
        "#SVM confusion matrix\n",
        "\n",
        "svm_matrix = confusion_matrix(y_test3, clf.predict(x_test3), normalize='all')\n",
        "explainer3 = lime.lime_tabular.LimeTabularExplainer(x_test3, mode='classification', feature_names = compasfeat.columns.values, class_names=['no recid', 'recid'], verbose=True, discretize_continuous=True, discretizer='quartile')\n",
        "\n",
        "print(\"\\nSupport vector machine accuracy: \", svmacc, \"\\nprediction: \", clf.predict(x_test3[i].reshape(1, -1)), \"\\nPredict probability: \", clf.predict_proba(x_test3[i].reshape(1, -1)), \"\\nConfusion Matrix:\\n\", svm_matrix)\n",
        "\n",
        "print(\"Support Vector Machine: \\n\")\n",
        "svmexp = explainer3.explain_instance(x_test3[i], clf.predict_proba, num_features=len(compasfeat.columns))\n",
        "#svmexp.show_in_notebook(show_table=True)\n",
        "svmimg = svmexp.as_pyplot_figure()\n",
        "svmimg.savefig('DresselSVMexp', format='pdf',bbox_inches='tight')\n",
        "plt.show()\n",
        "\n",
        "\n",
        "y_pred_proba = clf.predict_proba(x_test3)[::,1]\n",
        "fpr, tpr, _ = metrics.roc_curve(y_test3,  y_pred_proba)\n",
        "auc = round(metrics.roc_auc_score(y_test3, y_pred_proba),2)\n",
        "plt.plot(fpr,tpr,label=\"data 1, auc=\"+str(auc))\n",
        "plt.legend(loc=4)\n",
        "plt.savefig('originalsvmAUC.pdf', format='pdf',bbox_inches='tight')\n",
        "plt.show()\n",
        "\n",
        "print(\"Mean validation accuracy/loss: \", svmmeans, \"stddev: \", svmstds, \"Confidence Interval: \",svmci95)"
      ],
      "execution_count": null,
      "outputs": [
        {
          "output_type": "stream",
          "text": [
            "Sex values as string: Male      5819\n",
            "Female    1395\n",
            "Name: sex, dtype: int64\n"
          ],
          "name": "stdout"
        },
        {
          "output_type": "stream",
          "text": [
            "/usr/local/lib/python3.7/dist-packages/ipykernel_launcher.py:33: SettingWithCopyWarning: \n",
            "A value is trying to be set on a copy of a slice from a DataFrame\n",
            "\n",
            "See the caveats in the documentation: https://pandas.pydata.org/pandas-docs/stable/user_guide/indexing.html#returning-a-view-versus-a-copy\n",
            "/usr/local/lib/python3.7/dist-packages/ipykernel_launcher.py:35: SettingWithCopyWarning: \n",
            "A value is trying to be set on a copy of a slice from a DataFrame\n",
            "\n",
            "See the caveats in the documentation: https://pandas.pydata.org/pandas-docs/stable/user_guide/indexing.html#returning-a-view-versus-a-copy\n"
          ],
          "name": "stderr"
        },
        {
          "output_type": "stream",
          "text": [
            "SEX VALUES AS BINARY: 0    5819\n",
            "1    1395\n",
            "Name: sex, dtype: int64\n",
            "CHARGE VALUES AS STRING:  F    4666\n",
            "M    2548\n",
            "Name: c_charge_degree, dtype: int64\n"
          ],
          "name": "stdout"
        },
        {
          "output_type": "stream",
          "text": [
            "/usr/local/lib/python3.7/dist-packages/ipykernel_launcher.py:43: SettingWithCopyWarning: \n",
            "A value is trying to be set on a copy of a slice from a DataFrame\n",
            "\n",
            "See the caveats in the documentation: https://pandas.pydata.org/pandas-docs/stable/user_guide/indexing.html#returning-a-view-versus-a-copy\n",
            "/usr/local/lib/python3.7/dist-packages/ipykernel_launcher.py:41: SettingWithCopyWarning: \n",
            "A value is trying to be set on a copy of a slice from a DataFrame\n",
            "\n",
            "See the caveats in the documentation: https://pandas.pydata.org/pandas-docs/stable/user_guide/indexing.html#returning-a-view-versus-a-copy\n"
          ],
          "name": "stderr"
        },
        {
          "output_type": "stream",
          "text": [
            "CHARGE VALUES AS BINARY:  1    4666\n",
            "0    2548\n",
            "Name: c_charge_degree, dtype: int64\n",
            "Null values:  False Sum:  sex                0\n",
            "age                0\n",
            "juv_fel_count      0\n",
            "juv_misd_count     0\n",
            "priors_count       0\n",
            "c_charge_degree    0\n",
            "dtype: int64\n",
            "Index(['sex', 'age', 'juv_fel_count', 'juv_misd_count', 'priors_count',\n",
            "       'c_charge_degree'],\n",
            "      dtype='object')\n",
            "[]\n",
            "prisoner information:\n",
            " [0 27 0 0 0 1] 1\n",
            "\n",
            "Support vector machine accuracy:  61.82 \n",
            "prediction:  [0] \n",
            "Predict probability:  [[0.52129741 0.47870259]] \n",
            "Confusion Matrix:\n",
            " [[0.33610534 0.18641719]\n",
            " [0.1954262  0.28205128]]\n",
            "Support Vector Machine: \n",
            "\n"
          ],
          "name": "stdout"
        },
        {
          "output_type": "stream",
          "text": [
            "/usr/local/lib/python3.7/dist-packages/numpy/core/fromnumeric.py:3373: RuntimeWarning: Mean of empty slice.\n",
            "  out=out, **kwargs)\n",
            "/usr/local/lib/python3.7/dist-packages/numpy/core/_methods.py:170: RuntimeWarning: invalid value encountered in double_scalars\n",
            "  ret = ret.dtype.type(ret / rcount)\n",
            "/usr/local/lib/python3.7/dist-packages/numpy/core/_methods.py:234: RuntimeWarning: Degrees of freedom <= 0 for slice\n",
            "  keepdims=keepdims)\n",
            "/usr/local/lib/python3.7/dist-packages/numpy/core/_methods.py:195: RuntimeWarning: invalid value encountered in true_divide\n",
            "  arrmean, rcount, out=arrmean, casting='unsafe', subok=False)\n",
            "/usr/local/lib/python3.7/dist-packages/numpy/core/_methods.py:226: RuntimeWarning: invalid value encountered in double_scalars\n",
            "  ret = ret.dtype.type(ret / rcount)\n"
          ],
          "name": "stderr"
        },
        {
          "output_type": "stream",
          "text": [
            "Intercept 0.6007197465317047\n",
            "Prediction_local [0.43169593]\n",
            "Right: 0.47870258627776435\n"
          ],
          "name": "stdout"
        },
        {
          "output_type": "display_data",
          "data": {
            "image/png": "[encoded data removed]",
            "text/plain": [
              "<Figure size 432x288 with 1 Axes>"
            ]
          },
          "metadata": {
            "tags": [],
            "needs_background": "light"
          }
        },
        {
          "output_type": "display_data",
          "data": {
            "image/png": "[encoded data removed]",
            "text/plain": [
              "<Figure size 432x288 with 1 Axes>"
            ]
          },
          "metadata": {
            "tags": [],
            "needs_background": "light"
          }
        },
        {
          "output_type": "stream",
          "text": [
            "Mean validation accuracy/loss:  nan stddev:  nan Confidence Interval:  nan\n"
          ],
          "name": "stdout"
        }
      ]
    }
  ]
}