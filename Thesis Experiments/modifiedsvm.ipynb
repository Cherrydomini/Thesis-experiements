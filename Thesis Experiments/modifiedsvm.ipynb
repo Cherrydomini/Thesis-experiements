{
  "nbformat": 4,
  "nbformat_minor": 0,
  "metadata": {
    "colab": {
      "name": "modifiedsvm.ipynb",
      "provenance": []
    },
    "kernelspec": {
      "display_name": "Python 3",
      "name": "python3"
    },
    "language_info": {
      "name": "python"
    }
  },
  "cells": [
    {
      "cell_type": "code",
      "metadata": {
        "id": "Yuwg3pYRV1QV"
      },
      "source": [
        "!pip install lime\n",
        "!pip install seaborn\n",
        "!pip install lifelines"
      ],
      "execution_count": null,
      "outputs": []
    },
    {
      "cell_type": "code",
      "metadata": {
        "colab": {
          "background_save": true,
          "base_uri": "https://localhost:8080/"
        },
        "id": "zpxRZEfwV2YR",
        "outputId": "2fe10823-be99-4481-a211-7a57992410f6"
      },
      "source": [
        "from __future__ import print_function\n",
        "import pandas as pd\n",
        "import numpy as np\n",
        "import lime\n",
        "import lime.lime_tabular\n",
        "import sklearn.ensemble\n",
        "import sklearn.metrics\n",
        "from lime import lime_text\n",
        "from lime.lime_text import LimeTextExplainer\n",
        "import sklearn\n",
        "from sklearn.pipeline import make_pipeline\n",
        "from sklearn import linear_model\n",
        "import matplotlib.pyplot as plt\n",
        "from sklearn import preprocessing\n",
        "import sklearn.feature_extraction \n",
        "import seaborn as sns\n",
        "import pickle\n",
        "import datetime\n",
        "from datetime import timedelta\n",
        "import scipy.stats as st\n",
        "from sklearn import metrics\n",
        "from sklearn import svm\n",
        "from sklearn.metrics import confusion_matrix, plot_confusion_matrix\n",
        "\n",
        "compas = pd.read_csv(\"compas-scores-two-years.csv\")\n",
        "\n",
        "predict = 'is_recid'\n",
        "total = len(compas)\n",
        "#Encode sex values\n",
        "print(\"Sex values as string:\", compas['sex'].value_counts())\n",
        "for i in range(total):\n",
        "  if compas['sex'][i] == 'Male':\n",
        "    compas['sex'][i] = 0\n",
        "  if compas['sex'][i] == 'Female':\n",
        "    compas['sex'][i] = 1\n",
        "print(\"SEX VALUES AS BINARY:\",compas['sex'].value_counts())\n",
        "#Encode charge degree values\n",
        "print(\"CHARGE VALUES AS STRING: \", compas['c_charge_degree'].value_counts())\n",
        "for i in range(total):\n",
        "  if compas['c_charge_degree'][i] == 'M':\n",
        "    compas['c_charge_degree'][i] = 0\n",
        "  if compas['c_charge_degree'][i] == 'F':\n",
        "    compas['c_charge_degree'][i] = 1\n",
        "print(\"CHARGE VALUES AS BINARY: \", compas['c_charge_degree'].value_counts())\n",
        "\n",
        "print(total)\n",
        "for i in range(len(compas)):\n",
        "  if pd.to_datetime(compas[\"compas_screening_date\"][i]) >= datetime.datetime(2014, 4, 1):\n",
        "    compas = compas.drop([i])\n",
        "print(\"last date of modified dataset: \", compas[\"compas_screening_date\"].max(), \"length of compas: \", len(compas))\n",
        "\n",
        "compasfeat = compas.drop(['id', 'name', 'first', 'last','race','decile_score', 'juv_other_count','v_decile_score','compas_screening_date','dob', 'age_cat',  'days_b_screening_arrest', 'c_jail_in','c_jail_out',\n",
        "                        'c_case_number', 'c_offense_date', 'c_arrest_date', 'c_days_from_compas','c_charge_desc', 'r_case_number','r_charge_degree','is_recid',\n",
        "                        'r_days_from_arrest', 'r_offense_date','r_charge_desc', 'r_jail_in','r_jail_out','is_violent_recid','two_year_recid', 'priors_count.1',\n",
        "                        'decile_score.1','vr_case_number','vr_charge_degree', 'vr_offense_date', 'vr_charge_desc','type_of_assessment','score_text', \n",
        "                        'screening_date', 'v_type_of_assessment', 'v_score_text', 'v_screening_date', 'violent_recid', 'in_custody','out_custody','start','end','event'], axis=1)\n",
        "\n",
        "print(\"Null values: \", compasfeat.isnull().values.any(), \"Sum: \", compasfeat.isnull().sum())\n",
        "print(len(compasfeat))\n",
        "\n",
        "x = np.array(compasfeat)\n",
        "y = np.array(compas[predict])\n",
        "\n",
        "\n",
        "\n",
        "scaler = sklearn.preprocessing.StandardScaler()\n",
        "x = scaler.fit_transform(x)\n",
        "\n",
        "epochs= 1000\n",
        "print(\"MEAN OF SCALED DATA: \", x.mean(axis=0))\n",
        "print(\"STANDARD DEVIATION OF SCALED DATA\", x.std(axis=0))\n",
        "print(len(compasfeat))\n",
        "\n",
        "print(total)\n",
        "\n",
        "print(\"Null values: \", compasfeat.isnull().values.any(), \"Sum: \", compasfeat.isnull().sum())\n",
        "\n",
        "print(compasfeat.columns)\n",
        "svmaccuracies= []\n",
        "for _ in range(1000):\n",
        "    x_train3, x_test3, y_train3, y_test3 = sklearn.model_selection.train_test_split(x, y, test_size=.20)\n",
        "    clf= svm.NuSVC(gamma='auto', probability=True)\n",
        "    clf.fit(x_train3, y_train3)\n",
        "    svmacc =clf.score(x_test3, y_test3)\n",
        "    svmacc = round(svmacc*100, 2)\n",
        "    svmaccuracies.append(svmacc)\n",
        "\n",
        "modifiedSVM = 'modifiedSVM.sav'\n",
        "pickle.dump(clf, open(modifiedSVM, 'wb'))\n",
        "\"\"\"#open saved model\n",
        "openmodifiedSVM = pickle.load(open(\"modifiedSVM.sav\", \"rb\"))\n",
        "#results\"\"\"\n",
        "\n",
        "print(svmaccuracies)\n",
        "svmmeans = np.mean(svmaccuracies, 0)\n",
        "svmstds = np.std(svmaccuracies, 0)\n",
        "svmci95 = 1.96*svmstds/np.sqrt(epochs)\n",
        "\n",
        "i = 66\n",
        "\n",
        "print(\"prisoner information:\\n\", x_test3[i],y_test3[i])\n",
        "#SVM confusion matric\n",
        "\n",
        "svm_matrix = confusion_matrix(y_test3, clf.predict(x_test3), normalize='all')\n",
        "explainer3 = lime.lime_tabular.LimeTabularExplainer(x_train3, mode='classification', feature_names = compasfeat.columns.values, class_names=['no recid', 'recid'], verbose=True, discretize_continuous=True, discretizer='quartile')\n",
        "\n",
        "print(\"\\nSupport vector machine accuracy: \", svmacc, \"\\nprediction: \", clf.predict(x_test3[i].reshape(1, -1)), \"\\nPredict probability: \", clf.predict_proba(x_test3[i].reshape(1, -1)), \"\\nConfusion Matrix:\\n\", svm_matrix)\n",
        "\n",
        "print(\"Support Vector Machine: \\n\")\n",
        "svmexp = explainer3.explain_instance(x_test3[i], clf.predict_proba, num_features=len(compasfeat.columns))\n",
        "#svmexp.show_in_notebook(show_table=True)\n",
        "svmimg = svmexp.as_pyplot_figure()\n",
        "svmimg.savefig('modifiedSVMexp', format='pdf',bbox_inches='tight')\n",
        "plt.show()\n",
        "\n",
        "\n",
        "y_pred_proba = clf.predict_proba(x_test3)[::,1]\n",
        "fpr, tpr, _ = metrics.roc_curve(y_test3,  y_pred_proba)\n",
        "auc = round(metrics.roc_auc_score(y_test3, y_pred_proba),2)\n",
        "plt.plot(fpr,tpr,label=\"data 1, auc=\"+str(auc))\n",
        "plt.legend(loc=4)\n",
        "plt.savefig('modifiedsvmAUC.pdf', format='pdf',bbox_inches='tight')\n",
        "plt.show()\n",
        "\n",
        "print(\"Mean validation accuracy/loss: \", svmmeans, \"stddev: \", svmstds, \"Confidence Interval: \",svmci95)"
      ],
      "execution_count": null,
      "outputs": [
        {
          "output_type": "stream",
          "text": [
            "Sex values as string: Male      5819\n",
            "Female    1395\n",
            "Name: sex, dtype: int64\n"
          ],
          "name": "stdout"
        },
        {
          "output_type": "stream",
          "text": [
            "/usr/local/lib/python3.7/dist-packages/ipykernel_launcher.py:33: SettingWithCopyWarning: \n",
            "A value is trying to be set on a copy of a slice from a DataFrame\n",
            "\n",
            "See the caveats in the documentation: https://pandas.pydata.org/pandas-docs/stable/user_guide/indexing.html#returning-a-view-versus-a-copy\n",
            "/usr/local/lib/python3.7/dist-packages/ipykernel_launcher.py:35: SettingWithCopyWarning: \n",
            "A value is trying to be set on a copy of a slice from a DataFrame\n",
            "\n",
            "See the caveats in the documentation: https://pandas.pydata.org/pandas-docs/stable/user_guide/indexing.html#returning-a-view-versus-a-copy\n"
          ],
          "name": "stderr"
        },
        {
          "output_type": "stream",
          "text": [
            "SEX VALUES AS BINARY: 0    5819\n",
            "1    1395\n",
            "Name: sex, dtype: int64\n",
            "CHARGE VALUES AS STRING:  F    4666\n",
            "M    2548\n",
            "Name: c_charge_degree, dtype: int64\n"
          ],
          "name": "stdout"
        },
        {
          "output_type": "stream",
          "text": [
            "/usr/local/lib/python3.7/dist-packages/ipykernel_launcher.py:43: SettingWithCopyWarning: \n",
            "A value is trying to be set on a copy of a slice from a DataFrame\n",
            "\n",
            "See the caveats in the documentation: https://pandas.pydata.org/pandas-docs/stable/user_guide/indexing.html#returning-a-view-versus-a-copy\n",
            "/usr/local/lib/python3.7/dist-packages/ipykernel_launcher.py:41: SettingWithCopyWarning: \n",
            "A value is trying to be set on a copy of a slice from a DataFrame\n",
            "\n",
            "See the caveats in the documentation: https://pandas.pydata.org/pandas-docs/stable/user_guide/indexing.html#returning-a-view-versus-a-copy\n"
          ],
          "name": "stderr"
        },
        {
          "output_type": "stream",
          "text": [
            "CHARGE VALUES AS BINARY:  1    4666\n",
            "0    2548\n",
            "Name: c_charge_degree, dtype: int64\n",
            "7214\n",
            "last date of modified dataset:  2014-03-31 length of compas:  6207\n",
            "Null values:  False Sum:  sex                0\n",
            "age                0\n",
            "juv_fel_count      0\n",
            "juv_misd_count     0\n",
            "priors_count       0\n",
            "c_charge_degree    0\n",
            "dtype: int64\n",
            "6207\n",
            "MEAN OF SCALED DATA:  [ 5.03687456e-17  2.24369867e-16  4.35002803e-17  2.63291170e-17\n",
            "  2.51843728e-17 -5.17996758e-17]\n",
            "STANDARD DEVIATION OF SCALED DATA [1. 1. 1. 1. 1. 1.]\n",
            "6207\n",
            "7214\n",
            "Null values:  False Sum:  sex                0\n",
            "age                0\n",
            "juv_fel_count      0\n",
            "juv_misd_count     0\n",
            "priors_count       0\n",
            "c_charge_degree    0\n",
            "dtype: int64\n",
            "Index(['sex', 'age', 'juv_fel_count', 'juv_misd_count', 'priors_count',\n",
            "       'c_charge_degree'],\n",
            "      dtype='object')\n",
            "[62.32, 66.67, 61.67, 63.69, 65.62, 66.43, 56.92, 56.36, 64.98, 58.7, 64.01, 66.75, 64.98, 65.06, 65.7, 62.16, 65.78, 67.63, 62.24, 62.64, 61.11, 59.98, 66.1, 57.73, 63.04, 67.55, 62.72, 64.49, 62.72, 56.92, 62.32, 64.65, 58.7, 61.43, 65.54, 66.34, 62.88, 63.61, 58.94, 59.42, 63.61, 58.94, 63.69, 65.06, 62.8, 57.0, 62.64, 61.27, 62.24, 62.96, 63.29, 61.19, 65.62, 62.08, 64.73, 66.18, 62.4, 57.89, 62.48, 65.7, 64.09, 64.81, 63.53, 67.87, 67.31, 63.12, 62.88, 59.5, 64.33, 55.64, 64.09, 64.33, 65.22, 62.88, 63.12, 63.04, 57.65, 66.91, 65.54, 66.34, 59.66, 67.31, 60.31, 62.16, 61.03, 62.0, 61.59, 64.65, 58.78, 62.0, 60.23, 61.76, 60.55, 59.34, 64.25, 57.49, 63.37, 61.59, 63.77, 58.05, 68.28, 63.69, 61.03, 60.06, 65.7, 62.56, 65.62, 65.3, 67.55, 66.18, 57.25, 59.5, 64.49, 66.26, 60.63, 66.43, 57.25, 59.26, 61.19, 66.59, 65.7, 63.2, 65.54, 60.55, 60.14, 62.24, 58.05, 65.54, 65.62, 59.02, 62.48, 62.88, 58.94, 64.9, 60.06, 61.27, 62.88, 61.27, 68.04, 63.53, 67.15, 56.6, 65.62, 56.44, 59.74, 64.17, 63.61, 64.98, 64.98, 61.59, 61.03, 60.55, 59.58, 62.56, 60.06, 64.17, 64.49, 62.32, 62.88, 65.14, 60.39, 63.12, 62.48, 62.16, 65.78, 63.37, 61.92, 66.34, 60.95, 58.21, 62.0, 63.93, 65.86, 63.29, 65.54, 61.84, 63.2, 65.22, 60.39, 66.99, 67.23, 61.76, 60.23, 59.9, 61.92, 62.72, 63.61, 68.28, 59.5, 60.39, 66.1, 58.13, 62.96, 60.71, 58.45, 67.39, 66.18, 65.94, 63.53, 64.33, 58.29, 61.35, 63.53, 67.23, 62.08, 65.86, 58.7, 64.25, 62.0, 62.88, 63.61, 64.65, 66.34, 68.6, 57.97, 65.94, 63.45, 69.08, 64.81, 67.55, 62.96, 61.59, 63.85, 62.88, 63.29, 67.31, 59.66, 67.23, 62.0, 60.87, 64.01, 62.56, 62.32, 63.45, 63.85, 58.13, 62.24, 68.2, 63.04, 64.09, 64.57, 65.54, 60.63, 59.82, 61.67, 63.04, 66.1, 66.02, 66.75, 64.25, 63.69, 63.04, 65.22, 68.76, 59.34, 62.48, 66.91, 63.69, 65.78, 57.81, 64.98, 66.67, 63.37, 65.38, 61.84, 66.91, 59.58, 65.7, 60.39, 61.19, 67.71, 69.16, 66.91, 61.27, 65.22, 66.91, 60.47, 63.93, 67.15, 60.47, 55.96, 65.78, 66.83, 57.81, 67.39, 60.55, 64.25, 66.99, 64.57, 60.06, 64.9, 68.04, 62.0, 64.41, 63.12, 60.39, 61.92, 64.81, 59.42, 58.94, 65.94, 69.65, 57.49, 62.96, 64.81, 66.26, 59.82, 60.87, 59.74, 62.88, 60.31, 63.93, 62.08, 61.84, 65.3, 59.9, 66.43, 64.17, 54.35, 60.31, 60.87, 63.61, 67.55, 57.49, 64.49, 54.91, 57.89, 65.78, 66.59, 65.14, 61.51, 56.92, 66.91, 59.26, 62.72, 60.63, 63.53, 65.54, 57.33, 58.86, 62.8, 58.29, 63.69, 66.51, 63.29, 66.18, 66.91, 64.98, 61.27, 61.11, 63.77, 60.55, 65.86, 65.3, 65.54, 62.0, 64.73, 61.92, 57.49, 65.54, 57.25, 61.43, 58.45, 67.87, 65.7, 63.45, 64.81, 64.49, 64.01, 63.53, 59.74, 61.59, 64.33, 63.45, 66.1, 59.74, 65.14, 65.46, 55.07, 64.98, 63.29, 64.41, 61.27, 63.2, 60.95, 65.54, 66.43, 66.51, 67.47, 60.39, 57.73, 57.41, 62.4, 59.74, 59.1, 64.49, 66.91, 60.63, 62.32, 62.56, 63.04, 68.6, 63.2, 63.29, 61.76, 60.47, 60.79, 61.76, 65.62, 58.94, 66.34, 68.44, 58.53, 61.84, 66.51, 63.61, 64.98, 63.45, 57.73, 62.8, 61.84, 62.56, 66.26, 64.98, 61.51, 65.46, 63.45, 66.75, 63.45, 63.69, 59.18, 66.1, 63.29, 55.23, 65.62, 65.22, 63.85, 62.0, 68.04, 61.03, 65.78, 60.23, 64.01, 68.52, 60.71, 63.04, 53.7, 62.24, 61.67, 68.6, 64.25, 62.48, 64.09, 57.33, 65.94, 61.19, 61.19, 62.32, 60.95, 64.09, 68.28, 65.7, 66.99, 64.25, 61.27, 64.57, 66.67, 56.84, 64.49, 55.8, 58.62, 60.39, 61.43, 58.05, 59.58, 66.51, 64.73, 60.23, 65.46, 65.54, 64.17, 64.25, 62.96, 57.25, 61.92, 56.84, 66.1, 57.49, 61.11, 62.32, 61.92, 59.5, 64.09, 64.9, 65.3, 64.09, 62.16, 66.26, 66.59, 54.59, 60.63, 62.64, 67.55, 66.91, 64.41, 57.73, 60.31, 61.03, 62.8, 67.71, 58.94, 63.53, 61.35, 59.82, 65.94, 60.95, 66.34, 64.41, 59.98, 56.76, 62.0, 65.7, 63.69, 58.37, 63.77, 64.01, 59.26, 65.38, 63.53, 63.77, 60.23, 57.09, 60.87, 63.2, 62.0, 61.67, 64.81, 65.7, 62.24, 57.81, 67.07, 63.2, 58.53, 65.54, 67.23, 64.41, 59.58, 63.45, 59.9, 65.86, 61.51, 68.6, 65.06, 64.41, 62.08, 60.39, 62.4, 67.55, 64.81, 60.14, 61.84, 62.08, 64.81, 62.64, 67.47, 59.9, 59.34, 59.74, 66.43, 66.83, 65.3, 66.51, 58.21, 60.79, 63.77, 64.65, 58.37, 56.2, 64.57, 69.65, 63.85, 62.48, 59.9, 65.38, 59.58, 63.2, 61.19, 61.27, 60.47, 65.78, 62.4, 62.4, 67.55, 63.77, 58.13, 60.95, 64.09, 62.08, 63.2, 60.39, 60.39, 62.8, 65.86, 60.06, 62.08, 62.08, 61.92, 64.17, 65.22, 61.35, 61.67, 66.43, 61.76, 59.5, 62.64, 65.38, 62.32, 63.85, 64.17, 65.46, 68.68, 57.25, 63.93, 61.76, 64.98, 62.32, 62.56, 67.23, 65.7, 66.43, 59.74, 65.7, 59.34, 61.84, 62.96, 62.88, 67.47, 59.66, 56.6, 60.71, 60.79, 62.0, 55.88, 63.61, 66.75, 57.89, 62.24, 65.94, 58.78, 64.65, 64.17, 61.59, 61.84, 65.54, 60.87, 65.54, 65.14, 65.86, 60.47, 65.14, 63.61, 63.45, 65.62, 68.52, 59.66, 67.07, 62.64, 64.33, 63.45, 64.17, 62.64, 61.43, 58.29, 62.64, 60.87, 68.12, 67.87, 62.48, 61.76, 65.46, 64.33, 62.48, 62.8, 67.31, 61.84, 65.62, 65.62, 67.47, 64.98, 63.29, 64.73, 57.49, 55.39, 64.01, 61.35, 63.77, 60.63, 60.63, 66.18, 59.18, 59.5, 67.95, 61.35, 65.94, 66.83, 63.45, 63.45, 62.96, 65.38, 60.79, 65.86, 59.58, 64.9, 61.11, 62.32, 57.49, 62.48, 59.1, 60.31, 64.81, 62.32, 62.96, 58.53, 58.53, 66.26, 59.5, 66.75, 62.4, 64.49, 60.14, 66.83, 62.64, 57.33, 62.08, 64.17, 63.45, 62.48, 68.6, 67.15, 61.67, 63.77, 67.63, 63.29, 62.32, 57.17, 68.92, 58.7, 62.8, 64.49, 64.01, 65.38, 67.07, 59.66, 61.35, 58.94, 56.84, 64.98, 67.79, 61.19, 68.92, 62.64, 65.54, 61.27, 64.98, 61.84, 63.29, 63.45, 58.62, 64.98, 63.2, 60.23, 60.55, 64.49, 64.49, 65.62, 62.16, 58.53, 64.33, 59.82, 62.4, 59.74, 61.11, 65.3, 65.78, 61.92, 66.59, 65.3, 60.87, 50.97, 58.45, 62.08, 66.18, 65.7, 63.29, 65.06, 66.1, 64.49, 58.13, 58.7, 65.06, 57.81, 64.81, 64.01, 64.33, 62.72, 63.93, 65.62, 65.7, 58.13, 62.88, 65.78, 61.11, 64.41, 67.39, 60.14, 62.48, 63.12, 62.48, 62.08, 69.48, 60.87, 62.4, 65.7, 63.2, 64.65, 58.86, 63.12, 62.4, 60.63, 63.85, 61.84, 61.27, 67.71, 64.65, 59.74, 60.63, 63.69, 63.2, 63.53, 62.16, 61.43, 54.67, 62.56, 59.82, 60.47, 64.25, 56.6, 60.39, 62.32, 68.28, 63.61, 64.01, 64.65, 60.47, 66.51, 65.22, 62.24, 66.51, 66.91, 60.79, 62.96, 63.2, 59.74, 61.43, 67.15, 67.63, 65.06, 64.41, 62.24, 59.82, 64.41, 60.71, 58.53, 64.49, 64.17, 62.88, 63.37, 65.54, 66.91, 63.2, 63.93, 64.09, 63.61, 65.06, 66.34, 64.49, 61.19, 57.89, 65.86, 61.51, 66.83, 65.94, 57.89, 65.7, 57.81, 63.04, 64.49, 62.72, 67.63, 62.64, 62.88, 59.82, 61.35, 66.51, 59.02, 66.1, 62.24, 60.14, 66.59, 65.3, 64.73, 59.66, 66.43, 62.48, 66.1, 59.74, 65.86, 61.03, 64.49, 67.63, 67.87, 62.8, 68.2, 62.8, 64.73, 64.01, 64.81, 63.69, 62.72, 64.73, 64.57, 59.1, 66.18, 64.57, 61.27, 62.64, 63.85, 58.62, 64.57, 59.66, 62.72, 59.98, 62.72, 62.64, 66.91, 59.58, 59.5, 60.63, 64.01, 62.24, 58.78, 60.23, 65.7, 58.94, 59.1, 63.69, 67.63, 64.09, 62.24, 63.85, 55.07, 66.51, 64.98, 67.23, 57.17, 64.33, 61.67, 60.14, 63.77, 58.05, 67.15, 62.56, 65.46, 61.43, 61.59, 64.01, 57.25, 59.58, 63.77, 65.06, 61.27, 63.04, 55.15, 64.73, 65.94, 65.3, 57.73, 68.36, 62.96, 64.41, 62.4, 66.43, 66.02, 63.85, 61.27, 65.3, 65.78, 65.14, 59.58, 56.92]\n",
            "prisoner information:\n",
            " [-0.4925877  -0.27269263 -0.14624649 -0.17626758  0.16926128  0.758275  ] 1\n",
            "\n",
            "Support vector machine accuracy:  56.92 \n",
            "prediction:  [1] \n",
            "Predict probability:  [[0.56629138 0.43370862]] \n",
            "Confusion Matrix:\n",
            " [[0.34943639 0.24637681]\n",
            " [0.18438003 0.21980676]]\n",
            "Support Vector Machine: \n",
            "\n",
            "Intercept 0.6159788624841465\n",
            "Prediction_local [0.3806701]\n",
            "Right: 0.4337086235566314\n"
          ],
          "name": "stdout"
        },
        {
          "output_type": "display_data",
          "data": {
            "image/png": "[encoded data removed]",
            "text/plain": [
              "<Figure size 432x288 with 1 Axes>"
            ]
          },
          "metadata": {
            "tags": []
          }
        },
        {
          "output_type": "display_data",
          "data": {
            "image/png": "[encoded data removed]",
            "text/plain": [
              "<Figure size 432x288 with 1 Axes>"
            ]
          },
          "metadata": {
            "tags": []
          }
        },
        {
          "output_type": "stream",
          "text": [
            "Mean validation accuracy/loss:  62.92799 stddev:  3.0146114276801916 Confidence Interval:  0.18684755208809092\n"
          ],
          "name": "stdout"
        }
      ]
    }
  ]
}